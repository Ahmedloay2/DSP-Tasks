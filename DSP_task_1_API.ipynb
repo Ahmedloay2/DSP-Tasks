{
  "cells": [
    {
      "cell_type": "code",
      "execution_count": 1,
      "metadata": {
        "id": "8e01eb24",
        "colab": {
          "base_uri": "https://localhost:8080/"
        },
        "outputId": "188eb5a6-eb10-45e6-e369-1bbf0b6b0efd"
      },
      "outputs": [
        {
          "output_type": "stream",
          "name": "stdout",
          "text": [
            "\u001b[?25l     \u001b[90m━━━━━━━━━━━━━━━━━━━━━━━━━━━━━━━━━━━━━━━━\u001b[0m \u001b[32m0.0/2.0 MB\u001b[0m \u001b[31m?\u001b[0m eta \u001b[36m-:--:--\u001b[0m\r\u001b[2K     \u001b[91m━━━━━━━━━━\u001b[0m\u001b[90m╺\u001b[0m\u001b[90m━━━━━━━━━━━━━━━━━━━━━━━━━━━━━\u001b[0m \u001b[32m0.5/2.0 MB\u001b[0m \u001b[31m15.8 MB/s\u001b[0m eta \u001b[36m0:00:01\u001b[0m\r\u001b[2K     \u001b[90m━━━━━━━━━━━━━━━━━━━━━━━━━━━━━━━━━━━━━━━━\u001b[0m \u001b[32m2.0/2.0 MB\u001b[0m \u001b[31m31.1 MB/s\u001b[0m eta \u001b[36m0:00:00\u001b[0m\n",
            "\u001b[?25h  Preparing metadata (setup.py) ... \u001b[?25l\u001b[?25hdone\n",
            "\u001b[2K     \u001b[90m━━━━━━━━━━━━━━━━━━━━━━━━━━━━━━━━━━━━━━━━\u001b[0m \u001b[32m91.2/91.2 kB\u001b[0m \u001b[31m3.2 MB/s\u001b[0m eta \u001b[36m0:00:00\u001b[0m\n",
            "\u001b[2K   \u001b[90m━━━━━━━━━━━━━━━━━━━━━━━━━━━━━━━━━━━━━━━━\u001b[0m \u001b[32m163.8/163.8 kB\u001b[0m \u001b[31m6.0 MB/s\u001b[0m eta \u001b[36m0:00:00\u001b[0m\n",
            "\u001b[2K   \u001b[90m━━━━━━━━━━━━━━━━━━━━━━━━━━━━━━━━━━━━━━━━\u001b[0m \u001b[32m12.4/12.4 MB\u001b[0m \u001b[31m58.2 MB/s\u001b[0m eta \u001b[36m0:00:00\u001b[0m\n",
            "\u001b[?25h  Building wheel for simpleaudio (setup.py) ... \u001b[?25l\u001b[?25hdone\n",
            "\u001b[31mERROR: pip's dependency resolver does not currently take into account all the packages that are installed. This behaviour is the source of the following dependency conflicts.\n",
            "google-colab 1.0.0 requires pandas==2.2.2, but you have pandas 2.3.3 which is incompatible.\n",
            "dask-cudf-cu12 25.6.0 requires pandas<2.2.4dev0,>=2.0, but you have pandas 2.3.3 which is incompatible.\n",
            "cudf-cu12 25.6.0 requires pandas<2.2.4dev0,>=2.0, but you have pandas 2.3.3 which is incompatible.\u001b[0m\u001b[31m\n",
            "\u001b[0m"
          ]
        }
      ],
      "source": [
        "!pip install -q wfdb simpleaudio\n",
        "!pip install -q pyngrok flask flask-cors"
      ]
    },
    {
      "cell_type": "code",
      "execution_count": 2,
      "metadata": {
        "colab": {
          "base_uri": "https://localhost:8080/"
        },
        "id": "9Cv5O8OVJIUH",
        "outputId": "eb387410-70e9-4762-cdff-b3b793e0aed1"
      },
      "outputs": [
        {
          "output_type": "stream",
          "name": "stdout",
          "text": [
            "Cloning into 'Signal-Viewer-and-Classifier'...\n",
            "remote: Enumerating objects: 105, done.\u001b[K\n",
            "remote: Counting objects: 100% (105/105), done.\u001b[K\n",
            "remote: Compressing objects: 100% (75/75), done.\u001b[K\n",
            "remote: Total 105 (delta 40), reused 86 (delta 23), pack-reused 0 (from 0)\u001b[K\n",
            "Receiving objects: 100% (105/105), 14.60 MiB | 26.55 MiB/s, done.\n",
            "Resolving deltas: 100% (40/40), done.\n"
          ]
        }
      ],
      "source": [
        "!git clone https://github.com/Gad-MA/Signal-Viewer-and-Classifier.git"
      ]
    },
    {
      "cell_type": "code",
      "execution_count": 3,
      "metadata": {
        "colab": {
          "base_uri": "https://localhost:8080/"
        },
        "id": "d8f49597",
        "outputId": "00aea090-321b-43a0-ce58-636b55e4bb59"
      },
      "outputs": [
        {
          "output_type": "stream",
          "name": "stdout",
          "text": [
            "['/content', '/env/python', '/usr/lib/python312.zip', '/usr/lib/python3.12', '/usr/lib/python3.12/lib-dynload', '', '/usr/local/lib/python3.12/dist-packages', '/usr/lib/python3/dist-packages', '/usr/local/lib/python3.12/dist-packages/IPython/extensions', '/root/.ipython', '/content/Signal-Viewer-and-Classifier']\n"
          ]
        }
      ],
      "source": [
        "import sys\n",
        "import os\n",
        "\n",
        "# Get the current working directory\n",
        "current_dir = os.getcwd()\n",
        "\n",
        "# Add the path to the cloned repository to the system path\n",
        "repo_path = os.path.join(current_dir, 'Signal-Viewer-and-Classifier')\n",
        "sys.path.append(repo_path)\n",
        "\n",
        "# Verify the path has been added (optional)\n",
        "print(sys.path)"
      ]
    },
    {
      "cell_type": "markdown",
      "source": [
        "# Aliasing Audio"
      ],
      "metadata": {
        "id": "NjnuOCcAO0y5"
      }
    },
    {
      "cell_type": "code",
      "source": [
        "from api.aliasing.aliasing import degrade_audio"
      ],
      "metadata": {
        "id": "RPbDKJvrO0S7"
      },
      "execution_count": 4,
      "outputs": []
    },
    {
      "cell_type": "code",
      "source": [
        "import soundfile as sf\n",
        "import librosa\n",
        "import numpy as np\n",
        "\n",
        "def alias_audio(input_filename, sampling_freq):\n",
        "  output_filename = 'degraded_version.wav'\n",
        "\n",
        "  try:\n",
        "      # 2. LOAD YOUR FILE\n",
        "      # We use sr=None to load the file at its *original* sample rate\n",
        "      print(f\"Loading '{input_filename}'...\")\n",
        "      y, sr = librosa.load(input_filename, sr=None)\n",
        "      downsample_factor = int(sr / sampling_freq)\n",
        "      print(f\"File loaded successfully. (Sample Rate: {sr} Hz, Duration: {len(y)/sr:.2f}s)\")\n",
        "\n",
        "      # 3. PROCESS THE AUDIO\n",
        "      # We pass the file's original sample rate (sr) to your function\n",
        "      print(\"Applying degradation effects...\")\n",
        "      degraded_y = degrade_audio(y, sr_high=sr, downsample_factor=downsample_factor, add_noise=False, noise_level=0.005)\n",
        "\n",
        "      # 4. SAVE THE NEW FILE\n",
        "      # We save the new file using the *same* original sample rate\n",
        "      # sf.write(output_filename, degraded_y, sr)\n",
        "      # print(f\"✅ Success! Degraded audio saved to '{output_filename}'\")\n",
        "\n",
        "  except FileNotFoundError:\n",
        "      print(f\"--- ERROR ---\")\n",
        "      print(f\"File not found: '{input_filename}'\")\n",
        "      print(\"Please make sure the file is in the same directory as this script and the name is spelled correctly.\")\n",
        "  except Exception as e:\n",
        "      print(f\"An error occurred: {e}\")\n",
        "\n",
        "  return degraded_y, sr"
      ],
      "metadata": {
        "id": "J_ijQeUWXtD_"
      },
      "execution_count": 5,
      "outputs": []
    },
    {
      "cell_type": "markdown",
      "source": [
        "# Gender Classification"
      ],
      "metadata": {
        "id": "fmORKeWDmC1g"
      }
    },
    {
      "cell_type": "code",
      "source": [
        "from api.gender_detection.gender_detection import infer_gender_from_audio"
      ],
      "metadata": {
        "id": "NeBkKuMPmFi-"
      },
      "execution_count": 6,
      "outputs": []
    },
    {
      "cell_type": "code",
      "source": [],
      "metadata": {
        "id": "5jIWwFukmzoV"
      },
      "execution_count": null,
      "outputs": []
    },
    {
      "cell_type": "markdown",
      "metadata": {
        "id": "ILSioKYhNIAa"
      },
      "source": [
        "# ECG Signal Retrival from Database"
      ]
    },
    {
      "cell_type": "markdown",
      "metadata": {
        "id": "1f6adbc3"
      },
      "source": [
        "Now that the `wfdb` library is installed, you can use it to download and read the PTB-XL dataset.\n",
        "\n",
        "The `wfdb.rdrecord` function can read a single record from the dataset. You'll need to specify the record name and the directory where the dataset is stored.\n",
        "\n",
        "For the PTB-XL dataset, the records are organized in subdirectories. For example, the first record is located at `ptb-xl/1.0.3/records100/00000/00001_hr`.\n",
        "\n",
        "Let's read the first record as an example:"
      ]
    },
    {
      "cell_type": "markdown",
      "metadata": {
        "id": "6c9e9ffc"
      },
      "source": [
        "The `record` object contains the signal data and metadata for the record.\n",
        "\n",
        "You can access the signal data using `record.p_signal` and the metadata using `record.get_annotation()`.\n",
        "\n",
        "To read multiple records or the entire dataset, you would typically iterate through the record list provided by PhysioNet for the dataset. The dataset page on PhysioNet usually provides a list of all records."
      ]
    },
    {
      "cell_type": "code",
      "execution_count": 7,
      "metadata": {
        "id": "f98e9fe8"
      },
      "outputs": [],
      "source": [
        "import wfdb\n",
        "import matplotlib.pyplot as plt\n",
        "from scipy.signal import resample\n",
        "import numpy as np\n",
        "\n",
        "def retrieve_data_from_ecg_dataset(name, desired_sampling_freq=500):\n",
        "  \"\"\"\n",
        "  Retrieves ECG data from the PTB-XL dataset and resamples it to the desired frequency.\n",
        "\n",
        "  Args:\n",
        "    name (str): The name of the record to retrieve (e.g., '00001').\n",
        "    desired_sampling_freq (int): The target sampling frequency (default is 500).\n",
        "\n",
        "  Returns:\n",
        "    np.ndarray: The resampled ECG data.\n",
        "  \"\"\"\n",
        "  original_sampling_freq = 500 # The PTB-XL dataset records are originally at 500 Hz\n",
        "\n",
        "  desired_directory = f'ptb-xl/1.0.3/records{original_sampling_freq}/{name[:2]}000/'\n",
        "  record_name = f\"{name}_hr\"\n",
        "\n",
        "  record = wfdb.rdrecord(record_name, pn_dir=desired_directory)\n",
        "  ECG_data = record.p_signal\n",
        "\n",
        "  if original_sampling_freq != desired_sampling_freq:\n",
        "      # Resample the data\n",
        "      num_samples = int(len(ECG_data) * desired_sampling_freq / original_sampling_freq)\n",
        "      ECG_data = resample(ECG_data, num_samples)\n",
        "\n",
        "  return ECG_data"
      ]
    },
    {
      "cell_type": "markdown",
      "metadata": {
        "id": "0wgizZHzNNH_"
      },
      "source": [
        "# ECG Signal Classification"
      ]
    },
    {
      "cell_type": "code",
      "execution_count": 8,
      "metadata": {
        "id": "DfWPOLC0NTDY"
      },
      "outputs": [],
      "source": [
        "from api.ECG_Classifier.inference import predict_ecg_arrhythmia\n",
        "import os\n",
        "\n",
        "def classify_ecg_signal(name, desired_sampling_freq=500):\n",
        "    # desired_directory = f'ptb-xl/1.0.3/records{sampling_freq}/{name[:2]}000/'\n",
        "    # Construct the correct path to the model file\n",
        "    model_path = os.path.join('Signal-Viewer-and-Classifier', 'api', 'ECG_Classifier', 'ecg_full_model.h5')\n",
        "    return predict_ecg_arrhythmia(retrieve_data_from_ecg_dataset(name, desired_sampling_freq), model_path=model_path)"
      ]
    },
    {
      "cell_type": "markdown",
      "metadata": {
        "id": "jzF6NzpJ2Lpx"
      },
      "source": [
        "# Doppler Car Sound Generation"
      ]
    },
    {
      "cell_type": "code",
      "execution_count": null,
      "metadata": {
        "id": "2gKq2YkS2Qev"
      },
      "outputs": [],
      "source": [
        "from api.doppler.doppler_sound_generator import doppler_effect_wav_generator"
      ]
    },
    {
      "cell_type": "markdown",
      "metadata": {
        "id": "5k6l-swsa8EV"
      },
      "source": [
        "# Drone Sound Classifier"
      ]
    },
    {
      "cell_type": "code",
      "execution_count": null,
      "metadata": {
        "colab": {
          "base_uri": "https://localhost:8080/"
        },
        "id": "uIi5kPb0a7f8",
        "outputId": "f0a77e6c-8f52-45b4-91a4-e13098dea279"
      },
      "outputs": [
        {
          "name": "stderr",
          "output_type": "stream",
          "text": [
            "WARNING:absl:Compiled the loaded model, but the compiled metrics have yet to be built. `model.compile_metrics` will be empty until you train or evaluate the model.\n"
          ]
        }
      ],
      "source": [
        "from api.drone.drones import process_drone_audio"
      ]
    },
    {
      "cell_type": "markdown",
      "metadata": {
        "id": "UXUV4uXqeb2n"
      },
      "source": [
        "# SAR"
      ]
    },
    {
      "cell_type": "code",
      "execution_count": null,
      "metadata": {
        "id": "xj5d6cF4ed9-"
      },
      "outputs": [],
      "source": [
        "from api.SAR.SAR import analyze_sar_image"
      ]
    },
    {
      "cell_type": "markdown",
      "metadata": {
        "id": "UEEFq7VqjjmN"
      },
      "source": [
        "# EEG Classifier"
      ]
    },
    {
      "cell_type": "code",
      "execution_count": null,
      "metadata": {
        "colab": {
          "base_uri": "https://localhost:8080/"
        },
        "id": "Flee2VaDj8oC",
        "outputId": "e6b6f6cd-303e-4a60-fd35-a3684687d059"
      },
      "outputs": [
        {
          "name": "stdout",
          "output_type": "stream",
          "text": [
            "\u001b[2K   \u001b[90m━━━━━━━━━━━━━━━━━━━━━━━━━━━━━━━━━━━━━━━━\u001b[0m \u001b[32m7.4/7.4 MB\u001b[0m \u001b[31m55.3 MB/s\u001b[0m eta \u001b[36m0:00:00\u001b[0m\n",
            "\u001b[2K   \u001b[90m━━━━━━━━━━━━━━━━━━━━━━━━━━━━━━━━━━━━━━━━\u001b[0m \u001b[32m4.7/4.7 MB\u001b[0m \u001b[31m112.9 MB/s\u001b[0m eta \u001b[36m0:00:00\u001b[0m\n",
            "\u001b[2K   \u001b[90m━━━━━━━━━━━━━━━━━━━━━━━━━━━━━━━━━━━━━━━━\u001b[0m \u001b[32m14.1/14.1 MB\u001b[0m \u001b[31m105.2 MB/s\u001b[0m eta \u001b[36m0:00:00\u001b[0m\n",
            "\u001b[2K   \u001b[90m━━━━━━━━━━━━━━━━━━━━━━━━━━━━━━━━━━━━━━━━\u001b[0m \u001b[32m570.5/570.5 kB\u001b[0m \u001b[31m40.8 MB/s\u001b[0m eta \u001b[36m0:00:00\u001b[0m\n",
            "\u001b[2K   \u001b[90m━━━━━━━━━━━━━━━━━━━━━━━━━━━━━━━━━━━━━━━━\u001b[0m \u001b[32m85.7/85.7 kB\u001b[0m \u001b[31m5.6 MB/s\u001b[0m eta \u001b[36m0:00:00\u001b[0m\n",
            "\u001b[?25h\u001b[31mERROR: pip's dependency resolver does not currently take into account all the packages that are installed. This behaviour is the source of the following dependency conflicts.\n",
            "sphinx 8.2.3 requires docutils<0.22,>=0.20, but you have docutils 0.19 which is incompatible.\u001b[0m\u001b[31m\n",
            "\u001b[0m"
          ]
        }
      ],
      "source": [
        "!pip install -q mne antropy awscli\n",
        "from api.EEG.Alzheimer import alzheimer_inference\n",
        "from api.EEG.parkinson import parkinson_inference\n",
        "# from api.EEG.Motor_Imagery import motor_inference\n",
        "from api.EEG.Epilepsy import epilepsy_inference"
      ]
    },
    {
      "cell_type": "code",
      "execution_count": null,
      "metadata": {
        "colab": {
          "background_save": true
        },
        "id": "PQXisfHsuy_7"
      },
      "outputs": [],
      "source": [
        "!aws s3 sync --no-sign-request s3://openneuro.org/ds004504 alzheimer_eeg_data/"
      ]
    },
    {
      "cell_type": "code",
      "execution_count": null,
      "metadata": {
        "colab": {
          "background_save": true
        },
        "id": "KYpnXJ5Q7pW4"
      },
      "outputs": [],
      "source": [
        "!aws s3 sync --no-sign-request s3://physionet-open/chbmit/1.0.0/chb02 /content/epilepsy_data/"
      ]
    },
    {
      "cell_type": "markdown",
      "metadata": {
        "id": "Ku8KGqnWNRFn"
      },
      "source": [
        "# API"
      ]
    },
    {
      "cell_type": "code",
      "execution_count": null,
      "metadata": {
        "colab": {
          "base_uri": "https://localhost:8080/",
          "height": 570,
          "referenced_widgets": [
            "c42cb4f9068842b98fcbb446b994df35",
            "490532cdbb2543e4ae8925601e6dd5a8",
            "b44ddc5ed81944a59740aff291f113db",
            "db4dda2bba8a45b591bc0d08c4dcba3d",
            "b1001fae962a415b94f8798d07b6e975",
            "b11c5ba166c24c34b4651b7e49e1e9a3",
            "9ee56c32b43a4557818975873eb523a6",
            "ff13bc44f30b4f18a76473a33be8f1c9",
            "8582866596dc4b7484558c268c752ae8",
            "c3effd48af0e4bf3afce3cab1ddd15e1",
            "8927d0c118cb42dd8cf80a4ef1835388",
            "1a986dceb0134b6d8c98cf339e2fadf8",
            "b55139642528477a968f21d814556966",
            "4660eb2e627340c1a6a6d84de45b2906",
            "56ecd3df15e24b5aaa082b8a7df4adaf",
            "7c7be03cf3b74fbf839de2ea27db6570",
            "fc121404081e419a9dabd1dc55d011d7",
            "61d4b23bb50a431c99da9f28b03877e4",
            "646f7c4da99b403a878f85665354426f",
            "ea1b2f8c4f214e25857ffc11f43ad565",
            "e00d09a9742d495ab3fd9d3b5d7d1e8f",
            "28541f5954c34dd79f7bf4aea127394b"
          ]
        },
        "id": "zDT0NI2gxFCv",
        "outputId": "6bc4aed9-c94f-4325-daa4-97f36141e00d"
      },
      "outputs": [
        {
          "output_type": "stream",
          "name": "stdout",
          "text": [
            "Public URL: NgrokTunnel: \"https://semilunate-marcene-nonsustainable.ngrok-free.dev\" -> \"http://localhost:5000\"\n",
            " * Serving Flask app '__main__'\n",
            " * Debug mode: off\n"
          ]
        },
        {
          "output_type": "stream",
          "name": "stderr",
          "text": [
            "INFO:werkzeug:\u001b[31m\u001b[1mWARNING: This is a development server. Do not use it in a production deployment. Use a production WSGI server instead.\u001b[0m\n",
            " * Running on http://127.0.0.1:5000\n",
            "INFO:werkzeug:\u001b[33mPress CTRL+C to quit\u001b[0m\n",
            "INFO:werkzeug:127.0.0.1 - - [22/Oct/2025 20:39:38] \"\u001b[31m\u001b[1mPOST /gender-classification HTTP/1.1\u001b[0m\" 400 -\n",
            "/usr/local/lib/python3.12/dist-packages/huggingface_hub/utils/_auth.py:94: UserWarning: \n",
            "The secret `HF_TOKEN` does not exist in your Colab secrets.\n",
            "To authenticate with the Hugging Face Hub, create a token in your settings tab (https://huggingface.co/settings/tokens), set it as secret in your Google Colab and restart your session.\n",
            "You will be able to reuse this secret in all of your notebooks.\n",
            "Please note that authentication is recommended but still optional to access public models or datasets.\n",
            "  warnings.warn(\n"
          ]
        },
        {
          "output_type": "display_data",
          "data": {
            "text/plain": [
              "config.json:   0%|          | 0.00/15.0 [00:00<?, ?B/s]"
            ],
            "application/vnd.jupyter.widget-view+json": {
              "version_major": 2,
              "version_minor": 0,
              "model_id": "c42cb4f9068842b98fcbb446b994df35"
            }
          },
          "metadata": {}
        },
        {
          "output_type": "display_data",
          "data": {
            "text/plain": [
              "model.safetensors:   0%|          | 0.00/61.9M [00:00<?, ?B/s]"
            ],
            "application/vnd.jupyter.widget-view+json": {
              "version_major": 2,
              "version_minor": 0,
              "model_id": "1a986dceb0134b6d8c98cf339e2fadf8"
            }
          },
          "metadata": {}
        },
        {
          "output_type": "stream",
          "name": "stderr",
          "text": [
            "/usr/local/lib/python3.12/dist-packages/torchaudio/_backend/utils.py:213: UserWarning: In 2.9, this function's implementation will be changed to use torchaudio.load_with_torchcodec` under the hood. Some parameters like ``normalize``, ``format``, ``buffer_size``, and ``backend`` will be ignored. We recommend that you port your code to rely directly on TorchCodec's decoder instead: https://docs.pytorch.org/torchcodec/stable/generated/torchcodec.decoders.AudioDecoder.html#torchcodec.decoders.AudioDecoder.\n",
            "  warnings.warn(\n",
            "/usr/local/lib/python3.12/dist-packages/torchaudio/_backend/ffmpeg.py:88: UserWarning: torio.io._streaming_media_decoder.StreamingMediaDecoder has been deprecated. This deprecation is part of a large refactoring effort to transition TorchAudio into a maintenance phase. The decoding and encoding capabilities of PyTorch for both audio and video are being consolidated into TorchCodec. Please see https://github.com/pytorch/audio/issues/3902 for more information. It will be removed from the 2.9 release. \n",
            "  s = torchaudio.io.StreamReader(src, format, None, buffer_size)\n",
            "INFO:werkzeug:127.0.0.1 - - [22/Oct/2025 20:43:08] \"POST /gender-classification HTTP/1.1\" 200 -\n"
          ]
        },
        {
          "output_type": "stream",
          "name": "stdout",
          "text": [
            "Loading 'uploaded_speech_audio/uploaded_speech_audio.wav'...\n"
          ]
        },
        {
          "output_type": "stream",
          "name": "stderr",
          "text": [
            "INFO:werkzeug:127.0.0.1 - - [22/Oct/2025 20:49:19] \"POST /alias-speech?sampling_freq=10000 HTTP/1.1\" 200 -\n"
          ]
        },
        {
          "output_type": "stream",
          "name": "stdout",
          "text": [
            "File loaded successfully. (Sample Rate: 22050 Hz, Duration: 9.66s)\n",
            "Applying degradation effects...\n"
          ]
        },
        {
          "output_type": "stream",
          "name": "stderr",
          "text": [
            "/usr/local/lib/python3.12/dist-packages/torchaudio/_backend/utils.py:213: UserWarning: In 2.9, this function's implementation will be changed to use torchaudio.load_with_torchcodec` under the hood. Some parameters like ``normalize``, ``format``, ``buffer_size``, and ``backend`` will be ignored. We recommend that you port your code to rely directly on TorchCodec's decoder instead: https://docs.pytorch.org/torchcodec/stable/generated/torchcodec.decoders.AudioDecoder.html#torchcodec.decoders.AudioDecoder.\n",
            "  warnings.warn(\n",
            "/usr/local/lib/python3.12/dist-packages/torchaudio/_backend/ffmpeg.py:88: UserWarning: torio.io._streaming_media_decoder.StreamingMediaDecoder has been deprecated. This deprecation is part of a large refactoring effort to transition TorchAudio into a maintenance phase. The decoding and encoding capabilities of PyTorch for both audio and video are being consolidated into TorchCodec. Please see https://github.com/pytorch/audio/issues/3902 for more information. It will be removed from the 2.9 release. \n",
            "  s = torchaudio.io.StreamReader(src, format, None, buffer_size)\n",
            "INFO:werkzeug:127.0.0.1 - - [22/Oct/2025 20:50:47] \"POST /gender-classification HTTP/1.1\" 200 -\n"
          ]
        }
      ],
      "source": [
        "from pyngrok import ngrok\n",
        "from flask import Flask, jsonify, request, send_file\n",
        "import io\n",
        "from flask_cors import CORS\n",
        "import os\n",
        "\n",
        "# Set your ngrok authtoken (optional but recommended)\n",
        "# Get it from https://dashboard.ngrok.com/get-started/your-authtoken\n",
        "# Replace with your actual authtoken\n",
        "ngrok.set_auth_token(\"33ePdi4rrqqYDFd0PlCHMleUlX3_cmX8hBHXncgfEbzuCeS3\")\n",
        "\n",
        "# Start ngrok tunnel\n",
        "# Ensure the Flask app runs on this port\n",
        "port = 5000\n",
        "public_url = ngrok.connect(port)\n",
        "print(\"Public URL:\", public_url)\n",
        "\n",
        "app = Flask(__name__)\n",
        "CORS(app) # Enable CORS for all origins\n",
        "\n",
        "@app.route('/alias-speech', methods=['POST'])\n",
        "def alias_speech():\n",
        "    # Check if the request contains files\n",
        "    if 'wav_file' not in request.files:\n",
        "        return jsonify({'error': 'No file part in the request'}), 400\n",
        "\n",
        "    desired_sampling_freq = int(request.args.get('sampling_freq'))\n",
        "\n",
        "    file = request.files['wav_file']\n",
        "\n",
        "    # If the user does not select a file, the browser submits an\n",
        "    # empty file without a filename.\n",
        "    if file.filename == '':\n",
        "        return jsonify({'error': 'No selected file'}), 400\n",
        "\n",
        "    if file:\n",
        "        # Securely save the file. You might want to add validation here\n",
        "        # to check if the file is actually a WAV file and sanitize the filename.\n",
        "        # For demonstration, saving to a temporary location with a fixed name.\n",
        "        # Consider using werkzeug.utils.secure_filename if saving user-provided filenames.\n",
        "        upload_dir = 'uploaded_speech_audio' # Use a specific directory for drone uploads\n",
        "        os.makedirs(upload_dir, exist_ok=True) # Create directory if it doesn't exist\n",
        "        # Using a fixed filename for simplicity in this example\n",
        "        filename = \"uploaded_speech_audio.wav\"\n",
        "        filepath = os.path.join(upload_dir, filename)\n",
        "\n",
        "        file.save(filepath)\n",
        "\n",
        "        degraded_y, sr = alias_audio(filepath, desired_sampling_freq)\n",
        "\n",
        "        # 5. Save the processed audio to an in-memory buffer\n",
        "        buffer = io.BytesIO()\n",
        "        # We use 'WAV' format and 'PCM_16' subtype for broad compatibility\n",
        "        sf.write(buffer, degraded_y, sr, format='WAV', subtype='PCM_16')\n",
        "        # Reset the buffer's position to the beginning\n",
        "        buffer.seek(0)\n",
        "\n",
        "        return send_file(\n",
        "            buffer,\n",
        "            as_attachment=True,\n",
        "            download_name='degraded_audio.wav',\n",
        "            mimetype='audio/wav'\n",
        "        )\n",
        "\n",
        "@app.route('/gender-classification', methods=['POST'])\n",
        "def gender_classification():\n",
        "    # Check if the request contains files\n",
        "    if 'wav_file' not in request.files:\n",
        "        return jsonify({'error': 'No file part in the request'}), 400\n",
        "    file = request.files['wav_file']\n",
        "\n",
        "    # If the user does not select a file, the browser submits an\n",
        "    # empty file without a filename.\n",
        "    if file.filename == '':\n",
        "        return jsonify({'error': 'No selected file'}), 400\n",
        "\n",
        "    if file:\n",
        "        # Securely save the file. You might want to add validation here\n",
        "        # to check if the file is actually a WAV file and sanitize the filename.\n",
        "        # For demonstration, saving to a temporary location with a fixed name.\n",
        "        # Consider using werkzeug.utils.secure_filename if saving user-provided filenames.\n",
        "        upload_dir = 'uploaded_speech_audio_for_gender_classification' # Use a specific directory for drone uploads\n",
        "        os.makedirs(upload_dir, exist_ok=True) # Create directory if it doesn't exist\n",
        "        # Using a fixed filename for simplicity in this example\n",
        "        filename = \"uploaded_speech_audio_for_gender_classification.wav\"\n",
        "        filepath = os.path.join(upload_dir, filename)\n",
        "\n",
        "        file.save(filepath)\n",
        "\n",
        "        return jsonify(infer_gender_from_audio(filepath))\n",
        "\n",
        "# @app.route('/ecg_data/', defaults={'name': None}) # Handles /ecg_data/\n",
        "@app.route('/ecg_data') # Handles /ecg_data\n",
        "def get_ecg_data():\n",
        "    # Get 'name' from query parameters\n",
        "    name = request.args.get('name')\n",
        "    desired_sampling_freq = int(request.args.get('desired_sampling_freq'))\n",
        "    striped_name = str(name)[:5]\n",
        "    print(f\"Received request for name: {name}\") # Optional: for debugging\n",
        "\n",
        "    # Assuming ECG_data is a numpy array available in the global scope\n",
        "    # Convert the numpy array to a list for JSON serialization\n",
        "    ecg_data_list = retrieve_data_from_ecg_dataset(striped_name, desired_sampling_freq).tolist()\n",
        "    return jsonify(ecg_data_list)\n",
        "\n",
        "@app.route('/ecg_classification')\n",
        "def get_ecg_classification():\n",
        "    name = request.args.get('name')\n",
        "    striped_name = str(name)[:5]\n",
        "    desired_sampling_freq = int(request.args.get('desired_sampling_freq'))\n",
        "    print(f\"Received request for name: {name}\") # Optional: for debugging\n",
        "    return jsonify(classify_ecg_signal(striped_name, desired_sampling_freq))\n",
        "\n",
        "@app.route('/upload-drone-wav', methods=['POST'])\n",
        "def upload_drone_wav():\n",
        "    # Check if the request contains files\n",
        "    if 'wav_file' not in request.files:\n",
        "        return jsonify({'error': 'No file part in the request'}), 400\n",
        "\n",
        "    file = request.files['wav_file']\n",
        "\n",
        "    # If the user does not select a file, the browser submits an\n",
        "    # empty file without a filename.\n",
        "    if file.filename == '':\n",
        "        return jsonify({'error': 'No selected file'}), 400\n",
        "\n",
        "    if file:\n",
        "        # Securely save the file. You might want to add validation here\n",
        "        # to check if the file is actually a WAV file and sanitize the filename.\n",
        "        # For demonstration, saving to a temporary location with a fixed name.\n",
        "        # Consider using werkzeug.utils.secure_filename if saving user-provided filenames.\n",
        "        upload_dir = 'uploaded_drone_audio' # Use a specific directory for drone uploads\n",
        "        os.makedirs(upload_dir, exist_ok=True) # Create directory if it doesn't exist\n",
        "        # Using a fixed filename for simplicity in this example\n",
        "        filename = \"uploaded_drone_audio.wav\"\n",
        "        filepath = os.path.join(upload_dir, filename)\n",
        "\n",
        "        file.save(filepath)\n",
        "\n",
        "        return process_drone_audio(filepath)\n",
        "\n",
        "@app.route('/upload-sar-image', methods=['POST'])\n",
        "def upload_sar_image():\n",
        "    # Check if the request contains files\n",
        "    if 'sar_image' not in request.files:\n",
        "        return jsonify({'error': 'No file part in the request'}), 400\n",
        "\n",
        "    file = request.files['sar_image']\n",
        "\n",
        "    # If the user does not select a file, the browser submits an\n",
        "    # empty file without a filename.\n",
        "    if file.filename == '':\n",
        "        return jsonify({'error': 'No selected file'}), 400\n",
        "\n",
        "    if file:\n",
        "        # Securely save the file. You might want to add validation here\n",
        "        # to check if the file is actually a WAV file and sanitize the filename.\n",
        "        # For demonstration, saving to a temporary location with a fixed name.\n",
        "        # Consider using werkzeug.utils.secure_filename if saving user-provided filenames.\n",
        "        upload_dir = 'uploaded_sar_image' # Use a specific directory for drone uploads\n",
        "        os.makedirs(upload_dir, exist_ok=True) # Create directory if it doesn't exist\n",
        "        # Using a fixed filename for simplicity in this example\n",
        "        filename = \"uploaded_sar_image.bmp\"\n",
        "        filepath = os.path.join(upload_dir, filename)\n",
        "\n",
        "        file.save(filepath)\n",
        "\n",
        "        return analyze_sar_image(filepath)\n",
        "\n",
        "@app.route('/upload-eeg', methods=['POST'])\n",
        "def upload_eeg():\n",
        "    # Check if the request contains files\n",
        "    subject_num = int(request.args.get('subject_num'))\n",
        "    channel_num = int(request.args.get('channel_num'))\n",
        "    print(f\"Received request for subject_num: {subject_num}\") # Optional: for debugging\n",
        "    current_dir = os.getcwd()\n",
        "    alzheimer_eeg_data_path = os.path.join(current_dir, f'alzheimer_eeg_data/sub-{subject_num:03d}/eeg/sub-{subject_num:03d}_task-eyesclosed_eeg.set')\n",
        "    raw = mne.io.read_raw_eeglab(alzheimer_eeg_data_path)\n",
        "    number_of_channels = len(raw.info['ch_names'])\n",
        "    eeg_df = raw.to_data_frame()\n",
        "    single_channel_df = eeg_df.iloc[:5000, channel_num].tolist()\n",
        "\n",
        "    return jsonify({\n",
        "        'number_of_channels': number_of_channels,\n",
        "        # 'eeg_df': eeg_df.to_dict(orient='records')\n",
        "        'single_channel': single_channel_df\n",
        "    })\n",
        "\n",
        "@app.route('/eeg_classify', methods=['POST'])\n",
        "def eeg_classify():\n",
        "    subject_num = int(request.args.get('subject_num'))\n",
        "    return jsonify(\n",
        "      epilepsy_inference.predict_seizure(f\"/content/epilepsy_data/chb02_{subject_num:02d}.edf\")\n",
        "    )\n",
        "\n",
        "@app.route('/generate-doppler-sound', methods=['POST'])\n",
        "def generate_doppler_sound():\n",
        "    # Extract and validate parameters with defaults\n",
        "    source_velocity = request.args.get('source_velocity')\n",
        "    source_freq = request.args.get('source_freq')\n",
        "    normal_distance = request.args.get('normal_distance')\n",
        "    half_simulation_duration = request.args.get('half_simulation_duration')\n",
        "\n",
        "    # Generate the WAV file\n",
        "    doppler_effect_wav_generator(\n",
        "        source_velocity=float(source_velocity),\n",
        "        source_freq=float(source_freq),\n",
        "        normal_distance=float(normal_distance),\n",
        "        half_simulation_duration=float(half_simulation_duration)\n",
        "    )\n",
        "\n",
        "    # Construct the absolute path to the generated WAV file\n",
        "    # The file is saved in Signal-Viewer-and-Classifier/api/doppler/doppler_effect.wav\n",
        "    wav_file_relative_path_from_repo = os.path.join('api', 'doppler', 'doppler_effect.wav')\n",
        "    wav_file_absolute_path = os.path.join(repo_path, wav_file_relative_path_from_repo)\n",
        "\n",
        "    # Return the WAV file\n",
        "    return send_file(\n",
        "        wav_file_absolute_path,\n",
        "        mimetype='audio/wav',\n",
        "        as_attachment=True,\n",
        "        download_name='doppler_effect.wav'\n",
        "    )\n",
        "\n",
        "if __name__ == '__main__':\n",
        "    # Using threaded=False to avoid issues with Colab environment\n",
        "    app.run(port=port, threaded=False)"
      ]
    }
  ],
  "metadata": {
    "colab": {
      "provenance": []
    },
    "kernelspec": {
      "display_name": "Python 3",
      "name": "python3"
    },
    "language_info": {
      "name": "python"
    },
    "widgets": {
      "application/vnd.jupyter.widget-state+json": {
        "c42cb4f9068842b98fcbb446b994df35": {
          "model_module": "@jupyter-widgets/controls",
          "model_name": "HBoxModel",
          "model_module_version": "1.5.0",
          "state": {
            "_dom_classes": [],
            "_model_module": "@jupyter-widgets/controls",
            "_model_module_version": "1.5.0",
            "_model_name": "HBoxModel",
            "_view_count": null,
            "_view_module": "@jupyter-widgets/controls",
            "_view_module_version": "1.5.0",
            "_view_name": "HBoxView",
            "box_style": "",
            "children": [
              "IPY_MODEL_490532cdbb2543e4ae8925601e6dd5a8",
              "IPY_MODEL_b44ddc5ed81944a59740aff291f113db",
              "IPY_MODEL_db4dda2bba8a45b591bc0d08c4dcba3d"
            ],
            "layout": "IPY_MODEL_b1001fae962a415b94f8798d07b6e975"
          }
        },
        "490532cdbb2543e4ae8925601e6dd5a8": {
          "model_module": "@jupyter-widgets/controls",
          "model_name": "HTMLModel",
          "model_module_version": "1.5.0",
          "state": {
            "_dom_classes": [],
            "_model_module": "@jupyter-widgets/controls",
            "_model_module_version": "1.5.0",
            "_model_name": "HTMLModel",
            "_view_count": null,
            "_view_module": "@jupyter-widgets/controls",
            "_view_module_version": "1.5.0",
            "_view_name": "HTMLView",
            "description": "",
            "description_tooltip": null,
            "layout": "IPY_MODEL_b11c5ba166c24c34b4651b7e49e1e9a3",
            "placeholder": "​",
            "style": "IPY_MODEL_9ee56c32b43a4557818975873eb523a6",
            "value": "config.json: 100%"
          }
        },
        "b44ddc5ed81944a59740aff291f113db": {
          "model_module": "@jupyter-widgets/controls",
          "model_name": "FloatProgressModel",
          "model_module_version": "1.5.0",
          "state": {
            "_dom_classes": [],
            "_model_module": "@jupyter-widgets/controls",
            "_model_module_version": "1.5.0",
            "_model_name": "FloatProgressModel",
            "_view_count": null,
            "_view_module": "@jupyter-widgets/controls",
            "_view_module_version": "1.5.0",
            "_view_name": "ProgressView",
            "bar_style": "success",
            "description": "",
            "description_tooltip": null,
            "layout": "IPY_MODEL_ff13bc44f30b4f18a76473a33be8f1c9",
            "max": 15,
            "min": 0,
            "orientation": "horizontal",
            "style": "IPY_MODEL_8582866596dc4b7484558c268c752ae8",
            "value": 15
          }
        },
        "db4dda2bba8a45b591bc0d08c4dcba3d": {
          "model_module": "@jupyter-widgets/controls",
          "model_name": "HTMLModel",
          "model_module_version": "1.5.0",
          "state": {
            "_dom_classes": [],
            "_model_module": "@jupyter-widgets/controls",
            "_model_module_version": "1.5.0",
            "_model_name": "HTMLModel",
            "_view_count": null,
            "_view_module": "@jupyter-widgets/controls",
            "_view_module_version": "1.5.0",
            "_view_name": "HTMLView",
            "description": "",
            "description_tooltip": null,
            "layout": "IPY_MODEL_c3effd48af0e4bf3afce3cab1ddd15e1",
            "placeholder": "​",
            "style": "IPY_MODEL_8927d0c118cb42dd8cf80a4ef1835388",
            "value": " 15.0/15.0 [00:00&lt;00:00, 1.10kB/s]"
          }
        },
        "b1001fae962a415b94f8798d07b6e975": {
          "model_module": "@jupyter-widgets/base",
          "model_name": "LayoutModel",
          "model_module_version": "1.2.0",
          "state": {
            "_model_module": "@jupyter-widgets/base",
            "_model_module_version": "1.2.0",
            "_model_name": "LayoutModel",
            "_view_count": null,
            "_view_module": "@jupyter-widgets/base",
            "_view_module_version": "1.2.0",
            "_view_name": "LayoutView",
            "align_content": null,
            "align_items": null,
            "align_self": null,
            "border": null,
            "bottom": null,
            "display": null,
            "flex": null,
            "flex_flow": null,
            "grid_area": null,
            "grid_auto_columns": null,
            "grid_auto_flow": null,
            "grid_auto_rows": null,
            "grid_column": null,
            "grid_gap": null,
            "grid_row": null,
            "grid_template_areas": null,
            "grid_template_columns": null,
            "grid_template_rows": null,
            "height": null,
            "justify_content": null,
            "justify_items": null,
            "left": null,
            "margin": null,
            "max_height": null,
            "max_width": null,
            "min_height": null,
            "min_width": null,
            "object_fit": null,
            "object_position": null,
            "order": null,
            "overflow": null,
            "overflow_x": null,
            "overflow_y": null,
            "padding": null,
            "right": null,
            "top": null,
            "visibility": null,
            "width": null
          }
        },
        "b11c5ba166c24c34b4651b7e49e1e9a3": {
          "model_module": "@jupyter-widgets/base",
          "model_name": "LayoutModel",
          "model_module_version": "1.2.0",
          "state": {
            "_model_module": "@jupyter-widgets/base",
            "_model_module_version": "1.2.0",
            "_model_name": "LayoutModel",
            "_view_count": null,
            "_view_module": "@jupyter-widgets/base",
            "_view_module_version": "1.2.0",
            "_view_name": "LayoutView",
            "align_content": null,
            "align_items": null,
            "align_self": null,
            "border": null,
            "bottom": null,
            "display": null,
            "flex": null,
            "flex_flow": null,
            "grid_area": null,
            "grid_auto_columns": null,
            "grid_auto_flow": null,
            "grid_auto_rows": null,
            "grid_column": null,
            "grid_gap": null,
            "grid_row": null,
            "grid_template_areas": null,
            "grid_template_columns": null,
            "grid_template_rows": null,
            "height": null,
            "justify_content": null,
            "justify_items": null,
            "left": null,
            "margin": null,
            "max_height": null,
            "max_width": null,
            "min_height": null,
            "min_width": null,
            "object_fit": null,
            "object_position": null,
            "order": null,
            "overflow": null,
            "overflow_x": null,
            "overflow_y": null,
            "padding": null,
            "right": null,
            "top": null,
            "visibility": null,
            "width": null
          }
        },
        "9ee56c32b43a4557818975873eb523a6": {
          "model_module": "@jupyter-widgets/controls",
          "model_name": "DescriptionStyleModel",
          "model_module_version": "1.5.0",
          "state": {
            "_model_module": "@jupyter-widgets/controls",
            "_model_module_version": "1.5.0",
            "_model_name": "DescriptionStyleModel",
            "_view_count": null,
            "_view_module": "@jupyter-widgets/base",
            "_view_module_version": "1.2.0",
            "_view_name": "StyleView",
            "description_width": ""
          }
        },
        "ff13bc44f30b4f18a76473a33be8f1c9": {
          "model_module": "@jupyter-widgets/base",
          "model_name": "LayoutModel",
          "model_module_version": "1.2.0",
          "state": {
            "_model_module": "@jupyter-widgets/base",
            "_model_module_version": "1.2.0",
            "_model_name": "LayoutModel",
            "_view_count": null,
            "_view_module": "@jupyter-widgets/base",
            "_view_module_version": "1.2.0",
            "_view_name": "LayoutView",
            "align_content": null,
            "align_items": null,
            "align_self": null,
            "border": null,
            "bottom": null,
            "display": null,
            "flex": null,
            "flex_flow": null,
            "grid_area": null,
            "grid_auto_columns": null,
            "grid_auto_flow": null,
            "grid_auto_rows": null,
            "grid_column": null,
            "grid_gap": null,
            "grid_row": null,
            "grid_template_areas": null,
            "grid_template_columns": null,
            "grid_template_rows": null,
            "height": null,
            "justify_content": null,
            "justify_items": null,
            "left": null,
            "margin": null,
            "max_height": null,
            "max_width": null,
            "min_height": null,
            "min_width": null,
            "object_fit": null,
            "object_position": null,
            "order": null,
            "overflow": null,
            "overflow_x": null,
            "overflow_y": null,
            "padding": null,
            "right": null,
            "top": null,
            "visibility": null,
            "width": null
          }
        },
        "8582866596dc4b7484558c268c752ae8": {
          "model_module": "@jupyter-widgets/controls",
          "model_name": "ProgressStyleModel",
          "model_module_version": "1.5.0",
          "state": {
            "_model_module": "@jupyter-widgets/controls",
            "_model_module_version": "1.5.0",
            "_model_name": "ProgressStyleModel",
            "_view_count": null,
            "_view_module": "@jupyter-widgets/base",
            "_view_module_version": "1.2.0",
            "_view_name": "StyleView",
            "bar_color": null,
            "description_width": ""
          }
        },
        "c3effd48af0e4bf3afce3cab1ddd15e1": {
          "model_module": "@jupyter-widgets/base",
          "model_name": "LayoutModel",
          "model_module_version": "1.2.0",
          "state": {
            "_model_module": "@jupyter-widgets/base",
            "_model_module_version": "1.2.0",
            "_model_name": "LayoutModel",
            "_view_count": null,
            "_view_module": "@jupyter-widgets/base",
            "_view_module_version": "1.2.0",
            "_view_name": "LayoutView",
            "align_content": null,
            "align_items": null,
            "align_self": null,
            "border": null,
            "bottom": null,
            "display": null,
            "flex": null,
            "flex_flow": null,
            "grid_area": null,
            "grid_auto_columns": null,
            "grid_auto_flow": null,
            "grid_auto_rows": null,
            "grid_column": null,
            "grid_gap": null,
            "grid_row": null,
            "grid_template_areas": null,
            "grid_template_columns": null,
            "grid_template_rows": null,
            "height": null,
            "justify_content": null,
            "justify_items": null,
            "left": null,
            "margin": null,
            "max_height": null,
            "max_width": null,
            "min_height": null,
            "min_width": null,
            "object_fit": null,
            "object_position": null,
            "order": null,
            "overflow": null,
            "overflow_x": null,
            "overflow_y": null,
            "padding": null,
            "right": null,
            "top": null,
            "visibility": null,
            "width": null
          }
        },
        "8927d0c118cb42dd8cf80a4ef1835388": {
          "model_module": "@jupyter-widgets/controls",
          "model_name": "DescriptionStyleModel",
          "model_module_version": "1.5.0",
          "state": {
            "_model_module": "@jupyter-widgets/controls",
            "_model_module_version": "1.5.0",
            "_model_name": "DescriptionStyleModel",
            "_view_count": null,
            "_view_module": "@jupyter-widgets/base",
            "_view_module_version": "1.2.0",
            "_view_name": "StyleView",
            "description_width": ""
          }
        },
        "1a986dceb0134b6d8c98cf339e2fadf8": {
          "model_module": "@jupyter-widgets/controls",
          "model_name": "HBoxModel",
          "model_module_version": "1.5.0",
          "state": {
            "_dom_classes": [],
            "_model_module": "@jupyter-widgets/controls",
            "_model_module_version": "1.5.0",
            "_model_name": "HBoxModel",
            "_view_count": null,
            "_view_module": "@jupyter-widgets/controls",
            "_view_module_version": "1.5.0",
            "_view_name": "HBoxView",
            "box_style": "",
            "children": [
              "IPY_MODEL_b55139642528477a968f21d814556966",
              "IPY_MODEL_4660eb2e627340c1a6a6d84de45b2906",
              "IPY_MODEL_56ecd3df15e24b5aaa082b8a7df4adaf"
            ],
            "layout": "IPY_MODEL_7c7be03cf3b74fbf839de2ea27db6570"
          }
        },
        "b55139642528477a968f21d814556966": {
          "model_module": "@jupyter-widgets/controls",
          "model_name": "HTMLModel",
          "model_module_version": "1.5.0",
          "state": {
            "_dom_classes": [],
            "_model_module": "@jupyter-widgets/controls",
            "_model_module_version": "1.5.0",
            "_model_name": "HTMLModel",
            "_view_count": null,
            "_view_module": "@jupyter-widgets/controls",
            "_view_module_version": "1.5.0",
            "_view_name": "HTMLView",
            "description": "",
            "description_tooltip": null,
            "layout": "IPY_MODEL_fc121404081e419a9dabd1dc55d011d7",
            "placeholder": "​",
            "style": "IPY_MODEL_61d4b23bb50a431c99da9f28b03877e4",
            "value": "model.safetensors: 100%"
          }
        },
        "4660eb2e627340c1a6a6d84de45b2906": {
          "model_module": "@jupyter-widgets/controls",
          "model_name": "FloatProgressModel",
          "model_module_version": "1.5.0",
          "state": {
            "_dom_classes": [],
            "_model_module": "@jupyter-widgets/controls",
            "_model_module_version": "1.5.0",
            "_model_name": "FloatProgressModel",
            "_view_count": null,
            "_view_module": "@jupyter-widgets/controls",
            "_view_module_version": "1.5.0",
            "_view_name": "ProgressView",
            "bar_style": "success",
            "description": "",
            "description_tooltip": null,
            "layout": "IPY_MODEL_646f7c4da99b403a878f85665354426f",
            "max": 61907512,
            "min": 0,
            "orientation": "horizontal",
            "style": "IPY_MODEL_ea1b2f8c4f214e25857ffc11f43ad565",
            "value": 61907512
          }
        },
        "56ecd3df15e24b5aaa082b8a7df4adaf": {
          "model_module": "@jupyter-widgets/controls",
          "model_name": "HTMLModel",
          "model_module_version": "1.5.0",
          "state": {
            "_dom_classes": [],
            "_model_module": "@jupyter-widgets/controls",
            "_model_module_version": "1.5.0",
            "_model_name": "HTMLModel",
            "_view_count": null,
            "_view_module": "@jupyter-widgets/controls",
            "_view_module_version": "1.5.0",
            "_view_name": "HTMLView",
            "description": "",
            "description_tooltip": null,
            "layout": "IPY_MODEL_e00d09a9742d495ab3fd9d3b5d7d1e8f",
            "placeholder": "​",
            "style": "IPY_MODEL_28541f5954c34dd79f7bf4aea127394b",
            "value": " 61.9M/61.9M [00:01&lt;00:00, 41.5MB/s]"
          }
        },
        "7c7be03cf3b74fbf839de2ea27db6570": {
          "model_module": "@jupyter-widgets/base",
          "model_name": "LayoutModel",
          "model_module_version": "1.2.0",
          "state": {
            "_model_module": "@jupyter-widgets/base",
            "_model_module_version": "1.2.0",
            "_model_name": "LayoutModel",
            "_view_count": null,
            "_view_module": "@jupyter-widgets/base",
            "_view_module_version": "1.2.0",
            "_view_name": "LayoutView",
            "align_content": null,
            "align_items": null,
            "align_self": null,
            "border": null,
            "bottom": null,
            "display": null,
            "flex": null,
            "flex_flow": null,
            "grid_area": null,
            "grid_auto_columns": null,
            "grid_auto_flow": null,
            "grid_auto_rows": null,
            "grid_column": null,
            "grid_gap": null,
            "grid_row": null,
            "grid_template_areas": null,
            "grid_template_columns": null,
            "grid_template_rows": null,
            "height": null,
            "justify_content": null,
            "justify_items": null,
            "left": null,
            "margin": null,
            "max_height": null,
            "max_width": null,
            "min_height": null,
            "min_width": null,
            "object_fit": null,
            "object_position": null,
            "order": null,
            "overflow": null,
            "overflow_x": null,
            "overflow_y": null,
            "padding": null,
            "right": null,
            "top": null,
            "visibility": null,
            "width": null
          }
        },
        "fc121404081e419a9dabd1dc55d011d7": {
          "model_module": "@jupyter-widgets/base",
          "model_name": "LayoutModel",
          "model_module_version": "1.2.0",
          "state": {
            "_model_module": "@jupyter-widgets/base",
            "_model_module_version": "1.2.0",
            "_model_name": "LayoutModel",
            "_view_count": null,
            "_view_module": "@jupyter-widgets/base",
            "_view_module_version": "1.2.0",
            "_view_name": "LayoutView",
            "align_content": null,
            "align_items": null,
            "align_self": null,
            "border": null,
            "bottom": null,
            "display": null,
            "flex": null,
            "flex_flow": null,
            "grid_area": null,
            "grid_auto_columns": null,
            "grid_auto_flow": null,
            "grid_auto_rows": null,
            "grid_column": null,
            "grid_gap": null,
            "grid_row": null,
            "grid_template_areas": null,
            "grid_template_columns": null,
            "grid_template_rows": null,
            "height": null,
            "justify_content": null,
            "justify_items": null,
            "left": null,
            "margin": null,
            "max_height": null,
            "max_width": null,
            "min_height": null,
            "min_width": null,
            "object_fit": null,
            "object_position": null,
            "order": null,
            "overflow": null,
            "overflow_x": null,
            "overflow_y": null,
            "padding": null,
            "right": null,
            "top": null,
            "visibility": null,
            "width": null
          }
        },
        "61d4b23bb50a431c99da9f28b03877e4": {
          "model_module": "@jupyter-widgets/controls",
          "model_name": "DescriptionStyleModel",
          "model_module_version": "1.5.0",
          "state": {
            "_model_module": "@jupyter-widgets/controls",
            "_model_module_version": "1.5.0",
            "_model_name": "DescriptionStyleModel",
            "_view_count": null,
            "_view_module": "@jupyter-widgets/base",
            "_view_module_version": "1.2.0",
            "_view_name": "StyleView",
            "description_width": ""
          }
        },
        "646f7c4da99b403a878f85665354426f": {
          "model_module": "@jupyter-widgets/base",
          "model_name": "LayoutModel",
          "model_module_version": "1.2.0",
          "state": {
            "_model_module": "@jupyter-widgets/base",
            "_model_module_version": "1.2.0",
            "_model_name": "LayoutModel",
            "_view_count": null,
            "_view_module": "@jupyter-widgets/base",
            "_view_module_version": "1.2.0",
            "_view_name": "LayoutView",
            "align_content": null,
            "align_items": null,
            "align_self": null,
            "border": null,
            "bottom": null,
            "display": null,
            "flex": null,
            "flex_flow": null,
            "grid_area": null,
            "grid_auto_columns": null,
            "grid_auto_flow": null,
            "grid_auto_rows": null,
            "grid_column": null,
            "grid_gap": null,
            "grid_row": null,
            "grid_template_areas": null,
            "grid_template_columns": null,
            "grid_template_rows": null,
            "height": null,
            "justify_content": null,
            "justify_items": null,
            "left": null,
            "margin": null,
            "max_height": null,
            "max_width": null,
            "min_height": null,
            "min_width": null,
            "object_fit": null,
            "object_position": null,
            "order": null,
            "overflow": null,
            "overflow_x": null,
            "overflow_y": null,
            "padding": null,
            "right": null,
            "top": null,
            "visibility": null,
            "width": null
          }
        },
        "ea1b2f8c4f214e25857ffc11f43ad565": {
          "model_module": "@jupyter-widgets/controls",
          "model_name": "ProgressStyleModel",
          "model_module_version": "1.5.0",
          "state": {
            "_model_module": "@jupyter-widgets/controls",
            "_model_module_version": "1.5.0",
            "_model_name": "ProgressStyleModel",
            "_view_count": null,
            "_view_module": "@jupyter-widgets/base",
            "_view_module_version": "1.2.0",
            "_view_name": "StyleView",
            "bar_color": null,
            "description_width": ""
          }
        },
        "e00d09a9742d495ab3fd9d3b5d7d1e8f": {
          "model_module": "@jupyter-widgets/base",
          "model_name": "LayoutModel",
          "model_module_version": "1.2.0",
          "state": {
            "_model_module": "@jupyter-widgets/base",
            "_model_module_version": "1.2.0",
            "_model_name": "LayoutModel",
            "_view_count": null,
            "_view_module": "@jupyter-widgets/base",
            "_view_module_version": "1.2.0",
            "_view_name": "LayoutView",
            "align_content": null,
            "align_items": null,
            "align_self": null,
            "border": null,
            "bottom": null,
            "display": null,
            "flex": null,
            "flex_flow": null,
            "grid_area": null,
            "grid_auto_columns": null,
            "grid_auto_flow": null,
            "grid_auto_rows": null,
            "grid_column": null,
            "grid_gap": null,
            "grid_row": null,
            "grid_template_areas": null,
            "grid_template_columns": null,
            "grid_template_rows": null,
            "height": null,
            "justify_content": null,
            "justify_items": null,
            "left": null,
            "margin": null,
            "max_height": null,
            "max_width": null,
            "min_height": null,
            "min_width": null,
            "object_fit": null,
            "object_position": null,
            "order": null,
            "overflow": null,
            "overflow_x": null,
            "overflow_y": null,
            "padding": null,
            "right": null,
            "top": null,
            "visibility": null,
            "width": null
          }
        },
        "28541f5954c34dd79f7bf4aea127394b": {
          "model_module": "@jupyter-widgets/controls",
          "model_name": "DescriptionStyleModel",
          "model_module_version": "1.5.0",
          "state": {
            "_model_module": "@jupyter-widgets/controls",
            "_model_module_version": "1.5.0",
            "_model_name": "DescriptionStyleModel",
            "_view_count": null,
            "_view_module": "@jupyter-widgets/base",
            "_view_module_version": "1.2.0",
            "_view_name": "StyleView",
            "description_width": ""
          }
        }
      }
    }
  },
  "nbformat": 4,
  "nbformat_minor": 0
}
