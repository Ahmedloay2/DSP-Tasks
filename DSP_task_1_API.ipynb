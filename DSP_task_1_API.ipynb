{
  "cells": [
    {
      "cell_type": "code",
      "execution_count": null,
      "metadata": {
        "colab": {
          "base_uri": "https://localhost:8080/"
        },
        "id": "8e01eb24",
        "outputId": "18ebd22f-64e2-4e4c-9b8e-28833bc9e55c"
      },
      "outputs": [
        {
          "name": "stdout",
          "output_type": "stream",
          "text": [
            "\u001b[?25l     \u001b[90m━━━━━━━━━━━━━━━━━━━━━━━━━━━━━━━━━━━━━━━━\u001b[0m \u001b[32m0.0/2.0 MB\u001b[0m \u001b[31m?\u001b[0m eta \u001b[36m-:--:--\u001b[0m\r\u001b[2K     \u001b[91m━━━\u001b[0m\u001b[91m╸\u001b[0m\u001b[90m━━━━━━━━━━━━━━━━━━━━━━━━━━━━━━━━━━━━\u001b[0m \u001b[32m0.2/2.0 MB\u001b[0m \u001b[31m5.3 MB/s\u001b[0m eta \u001b[36m0:00:01\u001b[0m\r\u001b[2K     \u001b[91m━━━━━━━━━━━━━━━━━━━━━━━━\u001b[0m\u001b[91m╸\u001b[0m\u001b[90m━━━━━━━━━━━━━━━\u001b[0m \u001b[32m1.3/2.0 MB\u001b[0m \u001b[31m17.4 MB/s\u001b[0m eta \u001b[36m0:00:01\u001b[0m\r\u001b[2K     \u001b[90m━━━━━━━━━━━━━━━━━━━━━━━━━━━━━━━━━━━━━━━━\u001b[0m \u001b[32m2.0/2.0 MB\u001b[0m \u001b[31m20.1 MB/s\u001b[0m eta \u001b[36m0:00:00\u001b[0m\n",
            "\u001b[?25h  Preparing metadata (setup.py) ... \u001b[?25l\u001b[?25hdone\n",
            "\u001b[2K     \u001b[90m━━━━━━━━━━━━━━━━━━━━━━━━━━━━━━━━━━━━━━━━\u001b[0m \u001b[32m91.2/91.2 kB\u001b[0m \u001b[31m8.4 MB/s\u001b[0m eta \u001b[36m0:00:00\u001b[0m\n",
            "\u001b[2K   \u001b[90m━━━━━━━━━━━━━━━━━━━━━━━━━━━━━━━━━━━━━━━━\u001b[0m \u001b[32m163.8/163.8 kB\u001b[0m \u001b[31m10.8 MB/s\u001b[0m eta \u001b[36m0:00:00\u001b[0m\n",
            "\u001b[2K   \u001b[90m━━━━━━━━━━━━━━━━━━━━━━━━━━━━━━━━━━━━━━━━\u001b[0m \u001b[32m12.4/12.4 MB\u001b[0m \u001b[31m80.4 MB/s\u001b[0m eta \u001b[36m0:00:00\u001b[0m\n",
            "\u001b[?25h  Building wheel for simpleaudio (setup.py) ... \u001b[?25l\u001b[?25hdone\n",
            "\u001b[31mERROR: pip's dependency resolver does not currently take into account all the packages that are installed. This behaviour is the source of the following dependency conflicts.\n",
            "google-colab 1.0.0 requires pandas==2.2.2, but you have pandas 2.3.3 which is incompatible.\n",
            "dask-cudf-cu12 25.6.0 requires pandas<2.2.4dev0,>=2.0, but you have pandas 2.3.3 which is incompatible.\n",
            "cudf-cu12 25.6.0 requires pandas<2.2.4dev0,>=2.0, but you have pandas 2.3.3 which is incompatible.\u001b[0m\u001b[31m\n",
            "\u001b[0m"
          ]
        }
      ],
      "source": [
        "!pip install -q wfdb simpleaudio\n",
        "!pip install -q pyngrok flask flask-cors"
      ]
    },
    {
      "cell_type": "code",
      "execution_count": null,
      "metadata": {
        "colab": {
          "base_uri": "https://localhost:8080/"
        },
        "id": "9Cv5O8OVJIUH",
        "outputId": "f8519744-d159-4f71-9ac1-c79e712b000e"
      },
      "outputs": [
        {
          "name": "stdout",
          "output_type": "stream",
          "text": [
            "Cloning into 'Signal-Viewer-and-Classifier'...\n",
            "remote: Enumerating objects: 81, done.\u001b[K\n",
            "remote: Counting objects: 100% (81/81), done.\u001b[K\n",
            "remote: Compressing objects: 100% (57/57), done.\u001b[K\n",
            "remote: Total 81 (delta 32), reused 68 (delta 19), pack-reused 0 (from 0)\u001b[K\n",
            "Receiving objects: 100% (81/81), 12.55 MiB | 17.46 MiB/s, done.\n",
            "Resolving deltas: 100% (32/32), done.\n"
          ]
        }
      ],
      "source": [
        "!git clone https://github.com/Gad-MA/Signal-Viewer-and-Classifier.git"
      ]
    },
    {
      "cell_type": "code",
      "execution_count": null,
      "metadata": {
        "colab": {
          "base_uri": "https://localhost:8080/"
        },
        "id": "d8f49597",
        "outputId": "eeda9856-d6b1-48b6-bc4f-c93137ff8405"
      },
      "outputs": [
        {
          "name": "stdout",
          "output_type": "stream",
          "text": [
            "['/content', '/env/python', '/usr/lib/python312.zip', '/usr/lib/python3.12', '/usr/lib/python3.12/lib-dynload', '', '/usr/local/lib/python3.12/dist-packages', '/usr/lib/python3/dist-packages', '/usr/local/lib/python3.12/dist-packages/IPython/extensions', '/root/.ipython', '/content/Signal-Viewer-and-Classifier']\n"
          ]
        }
      ],
      "source": [
        "import sys\n",
        "import os\n",
        "\n",
        "# Get the current working directory\n",
        "current_dir = os.getcwd()\n",
        "\n",
        "# Add the path to the cloned repository to the system path\n",
        "repo_path = os.path.join(current_dir, 'Signal-Viewer-and-Classifier')\n",
        "sys.path.append(repo_path)\n",
        "\n",
        "# Verify the path has been added (optional)\n",
        "print(sys.path)"
      ]
    },
    {
      "cell_type": "markdown",
      "metadata": {
        "id": "1f6adbc3"
      },
      "source": [
        "Now that the `wfdb` library is installed, you can use it to download and read the PTB-XL dataset.\n",
        "\n",
        "The `wfdb.rdrecord` function can read a single record from the dataset. You'll need to specify the record name and the directory where the dataset is stored.\n",
        "\n",
        "For the PTB-XL dataset, the records are organized in subdirectories. For example, the first record is located at `ptb-xl/1.0.3/records100/00000/00001_hr`.\n",
        "\n",
        "Let's read the first record as an example:"
      ]
    },
    {
      "cell_type": "markdown",
      "metadata": {
        "id": "6c9e9ffc"
      },
      "source": [
        "The `record` object contains the signal data and metadata for the record.\n",
        "\n",
        "You can access the signal data using `record.p_signal` and the metadata using `record.get_annotation()`.\n",
        "\n",
        "To read multiple records or the entire dataset, you would typically iterate through the record list provided by PhysioNet for the dataset. The dataset page on PhysioNet usually provides a list of all records."
      ]
    },
    {
      "cell_type": "markdown",
      "metadata": {
        "id": "ILSioKYhNIAa"
      },
      "source": [
        "# ECG Signal Retrival from Database"
      ]
    },
    {
      "cell_type": "code",
      "execution_count": null,
      "metadata": {
        "id": "f98e9fe8"
      },
      "outputs": [],
      "source": [
        "import wfdb\n",
        "import matplotlib.pyplot as plt\n",
        "sampling_freq = 500 # can be 500 or 100\n",
        "def retrieve_data_from_ecg_dataset(name):\n",
        "\n",
        "\n",
        "  desired_directory = f'ptb-xl/1.0.3/records{sampling_freq}/{name[:2]}000/'\n",
        "  record_name = f\"{name}_hr\"\n",
        "\n",
        "  record = wfdb.rdrecord(record_name, pn_dir=desired_directory)\n",
        "  ECG_data = record.p_signal\n",
        "  return ECG_data # ECG_data comes in 2D matrix format of 12 columns, each column is on ECG channel/lead, and 5000 time steps (at sampling_freq = 5000) or 1000 times steps (at sampling_freq = 100)"
      ]
    },
    {
      "cell_type": "markdown",
      "metadata": {
        "id": "0wgizZHzNNH_"
      },
      "source": [
        "# ECG Signal Classification"
      ]
    },
    {
      "cell_type": "code",
      "execution_count": null,
      "metadata": {
        "id": "DfWPOLC0NTDY"
      },
      "outputs": [],
      "source": [
        "from api.ECG_Classifier.inference import predict_ecg_arrhythmia\n",
        "import os\n",
        "\n",
        "def classify_ecg_signal(name):\n",
        "    desired_directory = f'ptb-xl/1.0.3/records{sampling_freq}/{name[:2]}000/'\n",
        "    record_name = f\"{name}_hr\"\n",
        "    # Construct the correct path to the model file\n",
        "    model_path = os.path.join('Signal-Viewer-and-Classifier', 'api', 'ECG_Classifier', 'ecg_full_model.h5')\n",
        "    return predict_ecg_arrhythmia(record_name, desired_directory, model_path=model_path)"
      ]
    },
    {
      "cell_type": "markdown",
      "metadata": {
        "id": "jzF6NzpJ2Lpx"
      },
      "source": [
        "# Doppler Car Sound Generation"
      ]
    },
    {
      "cell_type": "code",
      "execution_count": null,
      "metadata": {
        "id": "2gKq2YkS2Qev"
      },
      "outputs": [],
      "source": [
        "from api.doppler.doppler_sound_generator import doppler_effect_wav_generator"
      ]
    },
    {
      "cell_type": "markdown",
      "metadata": {
        "id": "5k6l-swsa8EV"
      },
      "source": [
        "# Drone Sound Classifier"
      ]
    },
    {
      "cell_type": "code",
      "execution_count": null,
      "metadata": {
        "colab": {
          "base_uri": "https://localhost:8080/"
        },
        "id": "uIi5kPb0a7f8",
        "outputId": "f0a77e6c-8f52-45b4-91a4-e13098dea279"
      },
      "outputs": [
        {
          "name": "stderr",
          "output_type": "stream",
          "text": [
            "WARNING:absl:Compiled the loaded model, but the compiled metrics have yet to be built. `model.compile_metrics` will be empty until you train or evaluate the model.\n"
          ]
        }
      ],
      "source": [
        "from api.drone.drones import process_drone_audio"
      ]
    },
    {
      "cell_type": "markdown",
      "metadata": {
        "id": "UXUV4uXqeb2n"
      },
      "source": [
        "# SAR"
      ]
    },
    {
      "cell_type": "code",
      "execution_count": null,
      "metadata": {
        "id": "xj5d6cF4ed9-"
      },
      "outputs": [],
      "source": [
        "from api.SAR.SAR import analyze_sar_image"
      ]
    },
    {
      "cell_type": "markdown",
      "metadata": {
        "id": "UEEFq7VqjjmN"
      },
      "source": [
        "# EEG Classifier"
      ]
    },
    {
      "cell_type": "code",
      "execution_count": null,
      "metadata": {
        "colab": {
          "base_uri": "https://localhost:8080/"
        },
        "id": "Flee2VaDj8oC",
        "outputId": "e6b6f6cd-303e-4a60-fd35-a3684687d059"
      },
      "outputs": [
        {
          "name": "stdout",
          "output_type": "stream",
          "text": [
            "\u001b[2K   \u001b[90m━━━━━━━━━━━━━━━━━━━━━━━━━━━━━━━━━━━━━━━━\u001b[0m \u001b[32m7.4/7.4 MB\u001b[0m \u001b[31m55.3 MB/s\u001b[0m eta \u001b[36m0:00:00\u001b[0m\n",
            "\u001b[2K   \u001b[90m━━━━━━━━━━━━━━━━━━━━━━━━━━━━━━━━━━━━━━━━\u001b[0m \u001b[32m4.7/4.7 MB\u001b[0m \u001b[31m112.9 MB/s\u001b[0m eta \u001b[36m0:00:00\u001b[0m\n",
            "\u001b[2K   \u001b[90m━━━━━━━━━━━━━━━━━━━━━━━━━━━━━━━━━━━━━━━━\u001b[0m \u001b[32m14.1/14.1 MB\u001b[0m \u001b[31m105.2 MB/s\u001b[0m eta \u001b[36m0:00:00\u001b[0m\n",
            "\u001b[2K   \u001b[90m━━━━━━━━━━━━━━━━━━━━━━━━━━━━━━━━━━━━━━━━\u001b[0m \u001b[32m570.5/570.5 kB\u001b[0m \u001b[31m40.8 MB/s\u001b[0m eta \u001b[36m0:00:00\u001b[0m\n",
            "\u001b[2K   \u001b[90m━━━━━━━━━━━━━━━━━━━━━━━━━━━━━━━━━━━━━━━━\u001b[0m \u001b[32m85.7/85.7 kB\u001b[0m \u001b[31m5.6 MB/s\u001b[0m eta \u001b[36m0:00:00\u001b[0m\n",
            "\u001b[?25h\u001b[31mERROR: pip's dependency resolver does not currently take into account all the packages that are installed. This behaviour is the source of the following dependency conflicts.\n",
            "sphinx 8.2.3 requires docutils<0.22,>=0.20, but you have docutils 0.19 which is incompatible.\u001b[0m\u001b[31m\n",
            "\u001b[0m"
          ]
        }
      ],
      "source": [
        "!pip install -q mne antropy awscli\n",
        "from api.EEG.Alzheimer import alzheimer_inference\n",
        "from api.EEG.parkinson import parkinson_inference\n",
        "# from api.EEG.Motor_Imagery import motor_inference\n",
        "from api.EEG.Epilepsy import epilepsy_inference"
      ]
    },
    {
      "cell_type": "code",
      "execution_count": null,
      "metadata": {
        "colab": {
          "background_save": true,
          "base_uri": "https://localhost:8080/"
        },
        "id": "PQXisfHsuy_7",
        "outputId": "012ccb05-1cf5-475e-a031-043fe287338c"
      },
      "outputs": [
        {
          "name": "stdout",
          "output_type": "stream",
          "text": [
            "download: s3://openneuro.org/ds004504/.datalad/config to alzheimer_eeg_data/.datalad/config\n",
            "download: s3://openneuro.org/ds004504/dataset_description.json to alzheimer_eeg_data/dataset_description.json\n",
            "download: s3://openneuro.org/ds004504/.gitattributes to alzheimer_eeg_data/.gitattributes\n",
            "download: s3://openneuro.org/ds004504/CHANGES to alzheimer_eeg_data/CHANGES\n",
            "download: s3://openneuro.org/ds004504/README to alzheimer_eeg_data/README\n",
            "download: s3://openneuro.org/ds004504/derivatives/sub-005/eeg/sub-005_task-eyesclosed_eeg.set to alzheimer_eeg_data/derivatives/sub-005/eeg/sub-005_task-eyesclosed_eeg.set\n",
            "download: s3://openneuro.org/ds004504/derivatives/sub-002/eeg/sub-002_task-eyesclosed_eeg.set to alzheimer_eeg_data/derivatives/sub-002/eeg/sub-002_task-eyesclosed_eeg.set\n",
            "download: s3://openneuro.org/ds004504/derivatives/sub-004/eeg/sub-004_task-eyesclosed_eeg.set to alzheimer_eeg_data/derivatives/sub-004/eeg/sub-004_task-eyesclosed_eeg.set\n",
            "download: s3://openneuro.org/ds004504/derivatives/sub-006/eeg/sub-006_task-eyesclosed_eeg.set to alzheimer_eeg_data/derivatives/sub-006/eeg/sub-006_task-eyesclosed_eeg.set\n",
            "download: s3://openneuro.org/ds004504/derivatives/sub-003/eeg/sub-003_task-eyesclosed_eeg.set to alzheimer_eeg_data/derivatives/sub-003/eeg/sub-003_task-eyesclosed_eeg.set\n",
            "download: s3://openneuro.org/ds004504/derivatives/sub-001/eeg/sub-001_task-eyesclosed_eeg.set to alzheimer_eeg_data/derivatives/sub-001/eeg/sub-001_task-eyesclosed_eeg.set\n",
            "download: s3://openneuro.org/ds004504/derivatives/sub-011/eeg/sub-011_task-eyesclosed_eeg.set to alzheimer_eeg_data/derivatives/sub-011/eeg/sub-011_task-eyesclosed_eeg.set\n",
            "download: s3://openneuro.org/ds004504/derivatives/sub-008/eeg/sub-008_task-eyesclosed_eeg.set to alzheimer_eeg_data/derivatives/sub-008/eeg/sub-008_task-eyesclosed_eeg.set\n",
            "download: s3://openneuro.org/ds004504/derivatives/sub-007/eeg/sub-007_task-eyesclosed_eeg.set to alzheimer_eeg_data/derivatives/sub-007/eeg/sub-007_task-eyesclosed_eeg.set\n",
            "download: s3://openneuro.org/ds004504/derivatives/sub-012/eeg/sub-012_task-eyesclosed_eeg.set to alzheimer_eeg_data/derivatives/sub-012/eeg/sub-012_task-eyesclosed_eeg.set\n",
            "download: s3://openneuro.org/ds004504/derivatives/sub-009/eeg/sub-009_task-eyesclosed_eeg.set to alzheimer_eeg_data/derivatives/sub-009/eeg/sub-009_task-eyesclosed_eeg.set\n",
            "download: s3://openneuro.org/ds004504/derivatives/sub-016/eeg/sub-016_task-eyesclosed_eeg.set to alzheimer_eeg_data/derivatives/sub-016/eeg/sub-016_task-eyesclosed_eeg.set\n",
            "download: s3://openneuro.org/ds004504/derivatives/sub-014/eeg/sub-014_task-eyesclosed_eeg.set to alzheimer_eeg_data/derivatives/sub-014/eeg/sub-014_task-eyesclosed_eeg.set\n",
            "download: s3://openneuro.org/ds004504/derivatives/sub-018/eeg/sub-018_task-eyesclosed_eeg.set to alzheimer_eeg_data/derivatives/sub-018/eeg/sub-018_task-eyesclosed_eeg.set\n",
            "download: s3://openneuro.org/ds004504/derivatives/sub-019/eeg/sub-019_task-eyesclosed_eeg.set to alzheimer_eeg_data/derivatives/sub-019/eeg/sub-019_task-eyesclosed_eeg.set\n",
            "download: s3://openneuro.org/ds004504/derivatives/sub-010/eeg/sub-010_task-eyesclosed_eeg.set to alzheimer_eeg_data/derivatives/sub-010/eeg/sub-010_task-eyesclosed_eeg.set\n",
            "download: s3://openneuro.org/ds004504/derivatives/sub-021/eeg/sub-021_task-eyesclosed_eeg.set to alzheimer_eeg_data/derivatives/sub-021/eeg/sub-021_task-eyesclosed_eeg.set\n",
            "download: s3://openneuro.org/ds004504/derivatives/sub-022/eeg/sub-022_task-eyesclosed_eeg.set to alzheimer_eeg_data/derivatives/sub-022/eeg/sub-022_task-eyesclosed_eeg.set\n",
            "download: s3://openneuro.org/ds004504/derivatives/sub-015/eeg/sub-015_task-eyesclosed_eeg.set to alzheimer_eeg_data/derivatives/sub-015/eeg/sub-015_task-eyesclosed_eeg.set\n",
            "download: s3://openneuro.org/ds004504/derivatives/sub-013/eeg/sub-013_task-eyesclosed_eeg.set to alzheimer_eeg_data/derivatives/sub-013/eeg/sub-013_task-eyesclosed_eeg.set\n",
            "download: s3://openneuro.org/ds004504/derivatives/sub-025/eeg/sub-025_task-eyesclosed_eeg.set to alzheimer_eeg_data/derivatives/sub-025/eeg/sub-025_task-eyesclosed_eeg.set\n",
            "download: s3://openneuro.org/ds004504/derivatives/sub-017/eeg/sub-017_task-eyesclosed_eeg.set to alzheimer_eeg_data/derivatives/sub-017/eeg/sub-017_task-eyesclosed_eeg.set\n",
            "download: s3://openneuro.org/ds004504/derivatives/sub-020/eeg/sub-020_task-eyesclosed_eeg.set to alzheimer_eeg_data/derivatives/sub-020/eeg/sub-020_task-eyesclosed_eeg.set\n",
            "download: s3://openneuro.org/ds004504/derivatives/sub-028/eeg/sub-028_task-eyesclosed_eeg.set to alzheimer_eeg_data/derivatives/sub-028/eeg/sub-028_task-eyesclosed_eeg.set\n",
            "download: s3://openneuro.org/ds004504/derivatives/sub-023/eeg/sub-023_task-eyesclosed_eeg.set to alzheimer_eeg_data/derivatives/sub-023/eeg/sub-023_task-eyesclosed_eeg.set\n",
            "download: s3://openneuro.org/ds004504/derivatives/sub-030/eeg/sub-030_task-eyesclosed_eeg.set to alzheimer_eeg_data/derivatives/sub-030/eeg/sub-030_task-eyesclosed_eeg.set\n",
            "download: s3://openneuro.org/ds004504/derivatives/sub-024/eeg/sub-024_task-eyesclosed_eeg.set to alzheimer_eeg_data/derivatives/sub-024/eeg/sub-024_task-eyesclosed_eeg.set\n",
            "download: s3://openneuro.org/ds004504/derivatives/sub-027/eeg/sub-027_task-eyesclosed_eeg.set to alzheimer_eeg_data/derivatives/sub-027/eeg/sub-027_task-eyesclosed_eeg.set\n",
            "download: s3://openneuro.org/ds004504/derivatives/sub-033/eeg/sub-033_task-eyesclosed_eeg.set to alzheimer_eeg_data/derivatives/sub-033/eeg/sub-033_task-eyesclosed_eeg.set\n",
            "download: s3://openneuro.org/ds004504/derivatives/sub-026/eeg/sub-026_task-eyesclosed_eeg.set to alzheimer_eeg_data/derivatives/sub-026/eeg/sub-026_task-eyesclosed_eeg.set\n",
            "download: s3://openneuro.org/ds004504/derivatives/sub-035/eeg/sub-035_task-eyesclosed_eeg.set to alzheimer_eeg_data/derivatives/sub-035/eeg/sub-035_task-eyesclosed_eeg.set\n",
            "download: s3://openneuro.org/ds004504/derivatives/sub-037/eeg/sub-037_task-eyesclosed_eeg.set to alzheimer_eeg_data/derivatives/sub-037/eeg/sub-037_task-eyesclosed_eeg.set\n",
            "download: s3://openneuro.org/ds004504/derivatives/sub-034/eeg/sub-034_task-eyesclosed_eeg.set to alzheimer_eeg_data/derivatives/sub-034/eeg/sub-034_task-eyesclosed_eeg.set\n",
            "download: s3://openneuro.org/ds004504/derivatives/sub-039/eeg/sub-039_task-eyesclosed_eeg.set to alzheimer_eeg_data/derivatives/sub-039/eeg/sub-039_task-eyesclosed_eeg.set\n",
            "download: s3://openneuro.org/ds004504/derivatives/sub-029/eeg/sub-029_task-eyesclosed_eeg.set to alzheimer_eeg_data/derivatives/sub-029/eeg/sub-029_task-eyesclosed_eeg.set\n",
            "download: s3://openneuro.org/ds004504/derivatives/sub-040/eeg/sub-040_task-eyesclosed_eeg.set to alzheimer_eeg_data/derivatives/sub-040/eeg/sub-040_task-eyesclosed_eeg.set\n",
            "download: s3://openneuro.org/ds004504/derivatives/sub-031/eeg/sub-031_task-eyesclosed_eeg.set to alzheimer_eeg_data/derivatives/sub-031/eeg/sub-031_task-eyesclosed_eeg.set\n",
            "download: s3://openneuro.org/ds004504/derivatives/sub-042/eeg/sub-042_task-eyesclosed_eeg.set to alzheimer_eeg_data/derivatives/sub-042/eeg/sub-042_task-eyesclosed_eeg.set\n",
            "download: s3://openneuro.org/ds004504/derivatives/sub-036/eeg/sub-036_task-eyesclosed_eeg.set to alzheimer_eeg_data/derivatives/sub-036/eeg/sub-036_task-eyesclosed_eeg.set\n",
            "download: s3://openneuro.org/ds004504/derivatives/sub-044/eeg/sub-044_task-eyesclosed_eeg.set to alzheimer_eeg_data/derivatives/sub-044/eeg/sub-044_task-eyesclosed_eeg.set\n",
            "download: s3://openneuro.org/ds004504/derivatives/sub-032/eeg/sub-032_task-eyesclosed_eeg.set to alzheimer_eeg_data/derivatives/sub-032/eeg/sub-032_task-eyesclosed_eeg.set\n",
            "download: s3://openneuro.org/ds004504/derivatives/sub-047/eeg/sub-047_task-eyesclosed_eeg.set to alzheimer_eeg_data/derivatives/sub-047/eeg/sub-047_task-eyesclosed_eeg.set\n",
            "download: s3://openneuro.org/ds004504/derivatives/sub-046/eeg/sub-046_task-eyesclosed_eeg.set to alzheimer_eeg_data/derivatives/sub-046/eeg/sub-046_task-eyesclosed_eeg.set\n",
            "download: s3://openneuro.org/ds004504/derivatives/sub-041/eeg/sub-041_task-eyesclosed_eeg.set to alzheimer_eeg_data/derivatives/sub-041/eeg/sub-041_task-eyesclosed_eeg.set\n",
            "download: s3://openneuro.org/ds004504/derivatives/sub-049/eeg/sub-049_task-eyesclosed_eeg.set to alzheimer_eeg_data/derivatives/sub-049/eeg/sub-049_task-eyesclosed_eeg.set\n",
            "download: s3://openneuro.org/ds004504/derivatives/sub-038/eeg/sub-038_task-eyesclosed_eeg.set to alzheimer_eeg_data/derivatives/sub-038/eeg/sub-038_task-eyesclosed_eeg.set\n",
            "download: s3://openneuro.org/ds004504/derivatives/sub-051/eeg/sub-051_task-eyesclosed_eeg.set to alzheimer_eeg_data/derivatives/sub-051/eeg/sub-051_task-eyesclosed_eeg.set\n",
            "download: s3://openneuro.org/ds004504/derivatives/sub-052/eeg/sub-052_task-eyesclosed_eeg.set to alzheimer_eeg_data/derivatives/sub-052/eeg/sub-052_task-eyesclosed_eeg.set\n",
            "download: s3://openneuro.org/ds004504/derivatives/sub-045/eeg/sub-045_task-eyesclosed_eeg.set to alzheimer_eeg_data/derivatives/sub-045/eeg/sub-045_task-eyesclosed_eeg.set\n",
            "download: s3://openneuro.org/ds004504/derivatives/sub-054/eeg/sub-054_task-eyesclosed_eeg.set to alzheimer_eeg_data/derivatives/sub-054/eeg/sub-054_task-eyesclosed_eeg.set\n",
            "download: s3://openneuro.org/ds004504/derivatives/sub-043/eeg/sub-043_task-eyesclosed_eeg.set to alzheimer_eeg_data/derivatives/sub-043/eeg/sub-043_task-eyesclosed_eeg.set\n",
            "download: s3://openneuro.org/ds004504/derivatives/sub-056/eeg/sub-056_task-eyesclosed_eeg.set to alzheimer_eeg_data/derivatives/sub-056/eeg/sub-056_task-eyesclosed_eeg.set\n",
            "download: s3://openneuro.org/ds004504/derivatives/sub-057/eeg/sub-057_task-eyesclosed_eeg.set to alzheimer_eeg_data/derivatives/sub-057/eeg/sub-057_task-eyesclosed_eeg.set\n",
            "download: s3://openneuro.org/ds004504/derivatives/sub-053/eeg/sub-053_task-eyesclosed_eeg.set to alzheimer_eeg_data/derivatives/sub-053/eeg/sub-053_task-eyesclosed_eeg.set\n",
            "download: s3://openneuro.org/ds004504/derivatives/sub-059/eeg/sub-059_task-eyesclosed_eeg.set to alzheimer_eeg_data/derivatives/sub-059/eeg/sub-059_task-eyesclosed_eeg.set\n",
            "download: s3://openneuro.org/ds004504/derivatives/sub-060/eeg/sub-060_task-eyesclosed_eeg.set to alzheimer_eeg_data/derivatives/sub-060/eeg/sub-060_task-eyesclosed_eeg.set\n",
            "download: s3://openneuro.org/ds004504/derivatives/sub-050/eeg/sub-050_task-eyesclosed_eeg.set to alzheimer_eeg_data/derivatives/sub-050/eeg/sub-050_task-eyesclosed_eeg.set\n",
            "download: s3://openneuro.org/ds004504/derivatives/sub-063/eeg/sub-063_task-eyesclosed_eeg.set to alzheimer_eeg_data/derivatives/sub-063/eeg/sub-063_task-eyesclosed_eeg.set\n",
            "download: s3://openneuro.org/ds004504/derivatives/sub-062/eeg/sub-062_task-eyesclosed_eeg.set to alzheimer_eeg_data/derivatives/sub-062/eeg/sub-062_task-eyesclosed_eeg.set\n",
            "download: s3://openneuro.org/ds004504/derivatives/sub-048/eeg/sub-048_task-eyesclosed_eeg.set to alzheimer_eeg_data/derivatives/sub-048/eeg/sub-048_task-eyesclosed_eeg.set\n",
            "download: s3://openneuro.org/ds004504/derivatives/sub-065/eeg/sub-065_task-eyesclosed_eeg.set to alzheimer_eeg_data/derivatives/sub-065/eeg/sub-065_task-eyesclosed_eeg.set\n",
            "download: s3://openneuro.org/ds004504/derivatives/sub-066/eeg/sub-066_task-eyesclosed_eeg.set to alzheimer_eeg_data/derivatives/sub-066/eeg/sub-066_task-eyesclosed_eeg.set\n",
            "download: s3://openneuro.org/ds004504/derivatives/sub-055/eeg/sub-055_task-eyesclosed_eeg.set to alzheimer_eeg_data/derivatives/sub-055/eeg/sub-055_task-eyesclosed_eeg.set\n",
            "download: s3://openneuro.org/ds004504/derivatives/sub-068/eeg/sub-068_task-eyesclosed_eeg.set to alzheimer_eeg_data/derivatives/sub-068/eeg/sub-068_task-eyesclosed_eeg.set\n",
            "download: s3://openneuro.org/ds004504/derivatives/sub-069/eeg/sub-069_task-eyesclosed_eeg.set to alzheimer_eeg_data/derivatives/sub-069/eeg/sub-069_task-eyesclosed_eeg.set\n",
            "download: s3://openneuro.org/ds004504/derivatives/sub-067/eeg/sub-067_task-eyesclosed_eeg.set to alzheimer_eeg_data/derivatives/sub-067/eeg/sub-067_task-eyesclosed_eeg.set\n",
            "download: s3://openneuro.org/ds004504/derivatives/sub-058/eeg/sub-058_task-eyesclosed_eeg.set to alzheimer_eeg_data/derivatives/sub-058/eeg/sub-058_task-eyesclosed_eeg.set\n",
            "download: s3://openneuro.org/ds004504/derivatives/sub-070/eeg/sub-070_task-eyesclosed_eeg.set to alzheimer_eeg_data/derivatives/sub-070/eeg/sub-070_task-eyesclosed_eeg.set\n",
            "download: s3://openneuro.org/ds004504/derivatives/sub-064/eeg/sub-064_task-eyesclosed_eeg.set to alzheimer_eeg_data/derivatives/sub-064/eeg/sub-064_task-eyesclosed_eeg.set\n",
            "download: s3://openneuro.org/ds004504/derivatives/sub-072/eeg/sub-072_task-eyesclosed_eeg.set to alzheimer_eeg_data/derivatives/sub-072/eeg/sub-072_task-eyesclosed_eeg.set\n",
            "download: s3://openneuro.org/ds004504/derivatives/sub-075/eeg/sub-075_task-eyesclosed_eeg.set to alzheimer_eeg_data/derivatives/sub-075/eeg/sub-075_task-eyesclosed_eeg.set\n",
            "download: s3://openneuro.org/ds004504/derivatives/sub-074/eeg/sub-074_task-eyesclosed_eeg.set to alzheimer_eeg_data/derivatives/sub-074/eeg/sub-074_task-eyesclosed_eeg.set\n",
            "download: s3://openneuro.org/ds004504/derivatives/sub-077/eeg/sub-077_task-eyesclosed_eeg.set to alzheimer_eeg_data/derivatives/sub-077/eeg/sub-077_task-eyesclosed_eeg.set\n",
            "download: s3://openneuro.org/ds004504/participants.json to alzheimer_eeg_data/participants.json\n",
            "download: s3://openneuro.org/ds004504/participants.tsv to alzheimer_eeg_data/participants.tsv\n",
            "download: s3://openneuro.org/ds004504/sub-001/eeg/sub-001_task-eyesclosed_channels.tsv to alzheimer_eeg_data/sub-001/eeg/sub-001_task-eyesclosed_channels.tsv\n",
            "download: s3://openneuro.org/ds004504/sub-001/eeg/sub-001_task-eyesclosed_eeg.json to alzheimer_eeg_data/sub-001/eeg/sub-001_task-eyesclosed_eeg.json\n",
            "download: s3://openneuro.org/ds004504/derivatives/sub-071/eeg/sub-071_task-eyesclosed_eeg.set to alzheimer_eeg_data/derivatives/sub-071/eeg/sub-071_task-eyesclosed_eeg.set\n",
            "download: s3://openneuro.org/ds004504/derivatives/sub-061/eeg/sub-061_task-eyesclosed_eeg.set to alzheimer_eeg_data/derivatives/sub-061/eeg/sub-061_task-eyesclosed_eeg.set\n",
            "download: s3://openneuro.org/ds004504/derivatives/sub-080/eeg/sub-080_task-eyesclosed_eeg.set to alzheimer_eeg_data/derivatives/sub-080/eeg/sub-080_task-eyesclosed_eeg.set\n",
            "download: s3://openneuro.org/ds004504/derivatives/sub-081/eeg/sub-081_task-eyesclosed_eeg.set to alzheimer_eeg_data/derivatives/sub-081/eeg/sub-081_task-eyesclosed_eeg.set\n",
            "download: s3://openneuro.org/ds004504/sub-002/eeg/sub-002_task-eyesclosed_eeg.json to alzheimer_eeg_data/sub-002/eeg/sub-002_task-eyesclosed_eeg.json\n",
            "download: s3://openneuro.org/ds004504/sub-003/eeg/sub-003_task-eyesclosed_eeg.json to alzheimer_eeg_data/sub-003/eeg/sub-003_task-eyesclosed_eeg.json\n",
            "download: s3://openneuro.org/ds004504/derivatives/sub-073/eeg/sub-073_task-eyesclosed_eeg.set to alzheimer_eeg_data/derivatives/sub-073/eeg/sub-073_task-eyesclosed_eeg.set\n",
            "download: s3://openneuro.org/ds004504/sub-004/eeg/sub-004_task-eyesclosed_channels.tsv to alzheimer_eeg_data/sub-004/eeg/sub-004_task-eyesclosed_channels.tsv\n",
            "download: s3://openneuro.org/ds004504/sub-004/eeg/sub-004_task-eyesclosed_eeg.json to alzheimer_eeg_data/sub-004/eeg/sub-004_task-eyesclosed_eeg.json\n",
            "download: s3://openneuro.org/ds004504/derivatives/sub-082/eeg/sub-082_task-eyesclosed_eeg.set to alzheimer_eeg_data/derivatives/sub-082/eeg/sub-082_task-eyesclosed_eeg.set\n",
            "download: s3://openneuro.org/ds004504/sub-005/eeg/sub-005_task-eyesclosed_eeg.json to alzheimer_eeg_data/sub-005/eeg/sub-005_task-eyesclosed_eeg.json\n",
            "download: s3://openneuro.org/ds004504/sub-005/eeg/sub-005_task-eyesclosed_channels.tsv to alzheimer_eeg_data/sub-005/eeg/sub-005_task-eyesclosed_channels.tsv\n",
            "download: s3://openneuro.org/ds004504/derivatives/sub-084/eeg/sub-084_task-eyesclosed_eeg.set to alzheimer_eeg_data/derivatives/sub-084/eeg/sub-084_task-eyesclosed_eeg.set\n",
            "download: s3://openneuro.org/ds004504/sub-006/eeg/sub-006_task-eyesclosed_channels.tsv to alzheimer_eeg_data/sub-006/eeg/sub-006_task-eyesclosed_channels.tsv\n",
            "download: s3://openneuro.org/ds004504/sub-006/eeg/sub-006_task-eyesclosed_eeg.json to alzheimer_eeg_data/sub-006/eeg/sub-006_task-eyesclosed_eeg.json\n",
            "download: s3://openneuro.org/ds004504/sub-007/eeg/sub-007_task-eyesclosed_channels.tsv to alzheimer_eeg_data/sub-007/eeg/sub-007_task-eyesclosed_channels.tsv\n",
            "download: s3://openneuro.org/ds004504/derivatives/sub-079/eeg/sub-079_task-eyesclosed_eeg.set to alzheimer_eeg_data/derivatives/sub-079/eeg/sub-079_task-eyesclosed_eeg.set\n",
            "download: s3://openneuro.org/ds004504/derivatives/sub-086/eeg/sub-086_task-eyesclosed_eeg.set to alzheimer_eeg_data/derivatives/sub-086/eeg/sub-086_task-eyesclosed_eeg.set\n",
            "download: s3://openneuro.org/ds004504/sub-002/eeg/sub-002_task-eyesclosed_channels.tsv to alzheimer_eeg_data/sub-002/eeg/sub-002_task-eyesclosed_channels.tsv\n",
            "download: s3://openneuro.org/ds004504/sub-008/eeg/sub-008_task-eyesclosed_eeg.json to alzheimer_eeg_data/sub-008/eeg/sub-008_task-eyesclosed_eeg.json\n",
            "download: s3://openneuro.org/ds004504/derivatives/sub-087/eeg/sub-087_task-eyesclosed_eeg.set to alzheimer_eeg_data/derivatives/sub-087/eeg/sub-087_task-eyesclosed_eeg.set\n",
            "download: s3://openneuro.org/ds004504/sub-001/eeg/sub-001_task-eyesclosed_eeg.set to alzheimer_eeg_data/sub-001/eeg/sub-001_task-eyesclosed_eeg.set\n",
            "download: s3://openneuro.org/ds004504/derivatives/sub-076/eeg/sub-076_task-eyesclosed_eeg.set to alzheimer_eeg_data/derivatives/sub-076/eeg/sub-076_task-eyesclosed_eeg.set\n",
            "download: s3://openneuro.org/ds004504/sub-009/eeg/sub-009_task-eyesclosed_eeg.json to alzheimer_eeg_data/sub-009/eeg/sub-009_task-eyesclosed_eeg.json\n",
            "download: s3://openneuro.org/ds004504/derivatives/sub-088/eeg/sub-088_task-eyesclosed_eeg.set to alzheimer_eeg_data/derivatives/sub-088/eeg/sub-088_task-eyesclosed_eeg.set\n",
            "download: s3://openneuro.org/ds004504/sub-010/eeg/sub-010_task-eyesclosed_channels.tsv to alzheimer_eeg_data/sub-010/eeg/sub-010_task-eyesclosed_channels.tsv\n",
            "download: s3://openneuro.org/ds004504/sub-010/eeg/sub-010_task-eyesclosed_eeg.json to alzheimer_eeg_data/sub-010/eeg/sub-010_task-eyesclosed_eeg.json\n",
            "download: s3://openneuro.org/ds004504/derivatives/sub-083/eeg/sub-083_task-eyesclosed_eeg.set to alzheimer_eeg_data/derivatives/sub-083/eeg/sub-083_task-eyesclosed_eeg.set\n",
            "download: s3://openneuro.org/ds004504/sub-011/eeg/sub-011_task-eyesclosed_channels.tsv to alzheimer_eeg_data/sub-011/eeg/sub-011_task-eyesclosed_channels.tsv\n",
            "download: s3://openneuro.org/ds004504/sub-011/eeg/sub-011_task-eyesclosed_eeg.json to alzheimer_eeg_data/sub-011/eeg/sub-011_task-eyesclosed_eeg.json\n",
            "download: s3://openneuro.org/ds004504/sub-009/eeg/sub-009_task-eyesclosed_channels.tsv to alzheimer_eeg_data/sub-009/eeg/sub-009_task-eyesclosed_channels.tsv\n",
            "download: s3://openneuro.org/ds004504/sub-002/eeg/sub-002_task-eyesclosed_eeg.set to alzheimer_eeg_data/sub-002/eeg/sub-002_task-eyesclosed_eeg.set\n",
            "download: s3://openneuro.org/ds004504/sub-003/eeg/sub-003_task-eyesclosed_eeg.set to alzheimer_eeg_data/sub-003/eeg/sub-003_task-eyesclosed_eeg.set\n",
            "download: s3://openneuro.org/ds004504/sub-012/eeg/sub-012_task-eyesclosed_eeg.json to alzheimer_eeg_data/sub-012/eeg/sub-012_task-eyesclosed_eeg.json\n",
            "download: s3://openneuro.org/ds004504/sub-013/eeg/sub-013_task-eyesclosed_channels.tsv to alzheimer_eeg_data/sub-013/eeg/sub-013_task-eyesclosed_channels.tsv\n",
            "download: s3://openneuro.org/ds004504/derivatives/sub-085/eeg/sub-085_task-eyesclosed_eeg.set to alzheimer_eeg_data/derivatives/sub-085/eeg/sub-085_task-eyesclosed_eeg.set\n",
            "download: s3://openneuro.org/ds004504/sub-013/eeg/sub-013_task-eyesclosed_eeg.json to alzheimer_eeg_data/sub-013/eeg/sub-013_task-eyesclosed_eeg.json\n",
            "download: s3://openneuro.org/ds004504/sub-014/eeg/sub-014_task-eyesclosed_channels.tsv to alzheimer_eeg_data/sub-014/eeg/sub-014_task-eyesclosed_channels.tsv\n",
            "download: s3://openneuro.org/ds004504/sub-008/eeg/sub-008_task-eyesclosed_channels.tsv to alzheimer_eeg_data/sub-008/eeg/sub-008_task-eyesclosed_channels.tsv\n",
            "download: s3://openneuro.org/ds004504/sub-005/eeg/sub-005_task-eyesclosed_eeg.set to alzheimer_eeg_data/sub-005/eeg/sub-005_task-eyesclosed_eeg.set\n",
            "download: s3://openneuro.org/ds004504/sub-007/eeg/sub-007_task-eyesclosed_eeg.json to alzheimer_eeg_data/sub-007/eeg/sub-007_task-eyesclosed_eeg.json\n",
            "download: s3://openneuro.org/ds004504/sub-006/eeg/sub-006_task-eyesclosed_eeg.set to alzheimer_eeg_data/sub-006/eeg/sub-006_task-eyesclosed_eeg.set\n",
            "download: s3://openneuro.org/ds004504/sub-003/eeg/sub-003_task-eyesclosed_channels.tsv to alzheimer_eeg_data/sub-003/eeg/sub-003_task-eyesclosed_channels.tsv\n",
            "download: s3://openneuro.org/ds004504/sub-015/eeg/sub-015_task-eyesclosed_eeg.json to alzheimer_eeg_data/sub-015/eeg/sub-015_task-eyesclosed_eeg.json\n",
            "download: s3://openneuro.org/ds004504/sub-016/eeg/sub-016_task-eyesclosed_channels.tsv to alzheimer_eeg_data/sub-016/eeg/sub-016_task-eyesclosed_channels.tsv\n",
            "download: s3://openneuro.org/ds004504/sub-016/eeg/sub-016_task-eyesclosed_eeg.json to alzheimer_eeg_data/sub-016/eeg/sub-016_task-eyesclosed_eeg.json\n",
            "download: s3://openneuro.org/ds004504/sub-004/eeg/sub-004_task-eyesclosed_eeg.set to alzheimer_eeg_data/sub-004/eeg/sub-004_task-eyesclosed_eeg.set\n",
            "download: s3://openneuro.org/ds004504/sub-007/eeg/sub-007_task-eyesclosed_eeg.set to alzheimer_eeg_data/sub-007/eeg/sub-007_task-eyesclosed_eeg.set\n",
            "download: s3://openneuro.org/ds004504/sub-012/eeg/sub-012_task-eyesclosed_channels.tsv to alzheimer_eeg_data/sub-012/eeg/sub-012_task-eyesclosed_channels.tsv\n",
            "download: s3://openneuro.org/ds004504/sub-017/eeg/sub-017_task-eyesclosed_channels.tsv to alzheimer_eeg_data/sub-017/eeg/sub-017_task-eyesclosed_channels.tsv\n",
            "download: s3://openneuro.org/ds004504/sub-014/eeg/sub-014_task-eyesclosed_eeg.json to alzheimer_eeg_data/sub-014/eeg/sub-014_task-eyesclosed_eeg.json\n",
            "download: s3://openneuro.org/ds004504/sub-018/eeg/sub-018_task-eyesclosed_channels.tsv to alzheimer_eeg_data/sub-018/eeg/sub-018_task-eyesclosed_channels.tsv\n",
            "download: s3://openneuro.org/ds004504/sub-008/eeg/sub-008_task-eyesclosed_eeg.set to alzheimer_eeg_data/sub-008/eeg/sub-008_task-eyesclosed_eeg.set\n",
            "download: s3://openneuro.org/ds004504/sub-018/eeg/sub-018_task-eyesclosed_eeg.json to alzheimer_eeg_data/sub-018/eeg/sub-018_task-eyesclosed_eeg.json\n",
            "download: s3://openneuro.org/ds004504/derivatives/sub-078/eeg/sub-078_task-eyesclosed_eeg.set to alzheimer_eeg_data/derivatives/sub-078/eeg/sub-078_task-eyesclosed_eeg.set\n",
            "download: s3://openneuro.org/ds004504/sub-009/eeg/sub-009_task-eyesclosed_eeg.set to alzheimer_eeg_data/sub-009/eeg/sub-009_task-eyesclosed_eeg.set\n",
            "download: s3://openneuro.org/ds004504/sub-019/eeg/sub-019_task-eyesclosed_eeg.json to alzheimer_eeg_data/sub-019/eeg/sub-019_task-eyesclosed_eeg.json\n",
            "download: s3://openneuro.org/ds004504/sub-019/eeg/sub-019_task-eyesclosed_channels.tsv to alzheimer_eeg_data/sub-019/eeg/sub-019_task-eyesclosed_channels.tsv\n",
            "download: s3://openneuro.org/ds004504/sub-010/eeg/sub-010_task-eyesclosed_eeg.set to alzheimer_eeg_data/sub-010/eeg/sub-010_task-eyesclosed_eeg.set\n",
            "download: s3://openneuro.org/ds004504/sub-015/eeg/sub-015_task-eyesclosed_channels.tsv to alzheimer_eeg_data/sub-015/eeg/sub-015_task-eyesclosed_channels.tsv\n",
            "download: s3://openneuro.org/ds004504/sub-017/eeg/sub-017_task-eyesclosed_eeg.json to alzheimer_eeg_data/sub-017/eeg/sub-017_task-eyesclosed_eeg.json\n",
            "download: s3://openneuro.org/ds004504/sub-020/eeg/sub-020_task-eyesclosed_eeg.json to alzheimer_eeg_data/sub-020/eeg/sub-020_task-eyesclosed_eeg.json\n",
            "download: s3://openneuro.org/ds004504/sub-011/eeg/sub-011_task-eyesclosed_eeg.set to alzheimer_eeg_data/sub-011/eeg/sub-011_task-eyesclosed_eeg.set\n",
            "download: s3://openneuro.org/ds004504/sub-021/eeg/sub-021_task-eyesclosed_eeg.json to alzheimer_eeg_data/sub-021/eeg/sub-021_task-eyesclosed_eeg.json\n",
            "download: s3://openneuro.org/ds004504/sub-022/eeg/sub-022_task-eyesclosed_eeg.json to alzheimer_eeg_data/sub-022/eeg/sub-022_task-eyesclosed_eeg.json\n",
            "download: s3://openneuro.org/ds004504/sub-012/eeg/sub-012_task-eyesclosed_eeg.set to alzheimer_eeg_data/sub-012/eeg/sub-012_task-eyesclosed_eeg.set\n",
            "download: s3://openneuro.org/ds004504/sub-023/eeg/sub-023_task-eyesclosed_channels.tsv to alzheimer_eeg_data/sub-023/eeg/sub-023_task-eyesclosed_channels.tsv\n",
            "download: s3://openneuro.org/ds004504/sub-023/eeg/sub-023_task-eyesclosed_eeg.json to alzheimer_eeg_data/sub-023/eeg/sub-023_task-eyesclosed_eeg.json\n",
            "download: s3://openneuro.org/ds004504/sub-014/eeg/sub-014_task-eyesclosed_eeg.set to alzheimer_eeg_data/sub-014/eeg/sub-014_task-eyesclosed_eeg.set\n",
            "download: s3://openneuro.org/ds004504/sub-013/eeg/sub-013_task-eyesclosed_eeg.set to alzheimer_eeg_data/sub-013/eeg/sub-013_task-eyesclosed_eeg.set\n",
            "download: s3://openneuro.org/ds004504/sub-021/eeg/sub-021_task-eyesclosed_channels.tsv to alzheimer_eeg_data/sub-021/eeg/sub-021_task-eyesclosed_channels.tsv\n",
            "download: s3://openneuro.org/ds004504/sub-024/eeg/sub-024_task-eyesclosed_eeg.json to alzheimer_eeg_data/sub-024/eeg/sub-024_task-eyesclosed_eeg.json\n",
            "download: s3://openneuro.org/ds004504/sub-022/eeg/sub-022_task-eyesclosed_channels.tsv to alzheimer_eeg_data/sub-022/eeg/sub-022_task-eyesclosed_channels.tsv\n",
            "download: s3://openneuro.org/ds004504/sub-025/eeg/sub-025_task-eyesclosed_eeg.json to alzheimer_eeg_data/sub-025/eeg/sub-025_task-eyesclosed_eeg.json\n",
            "download: s3://openneuro.org/ds004504/sub-024/eeg/sub-024_task-eyesclosed_channels.tsv to alzheimer_eeg_data/sub-024/eeg/sub-024_task-eyesclosed_channels.tsv\n",
            "download: s3://openneuro.org/ds004504/sub-026/eeg/sub-026_task-eyesclosed_channels.tsv to alzheimer_eeg_data/sub-026/eeg/sub-026_task-eyesclosed_channels.tsv\n",
            "download: s3://openneuro.org/ds004504/sub-016/eeg/sub-016_task-eyesclosed_eeg.set to alzheimer_eeg_data/sub-016/eeg/sub-016_task-eyesclosed_eeg.set\n",
            "download: s3://openneuro.org/ds004504/sub-020/eeg/sub-020_task-eyesclosed_channels.tsv to alzheimer_eeg_data/sub-020/eeg/sub-020_task-eyesclosed_channels.tsv\n",
            "download: s3://openneuro.org/ds004504/sub-027/eeg/sub-027_task-eyesclosed_channels.tsv to alzheimer_eeg_data/sub-027/eeg/sub-027_task-eyesclosed_channels.tsv\n",
            "download: s3://openneuro.org/ds004504/sub-027/eeg/sub-027_task-eyesclosed_eeg.json to alzheimer_eeg_data/sub-027/eeg/sub-027_task-eyesclosed_eeg.json\n",
            "download: s3://openneuro.org/ds004504/sub-028/eeg/sub-028_task-eyesclosed_channels.tsv to alzheimer_eeg_data/sub-028/eeg/sub-028_task-eyesclosed_channels.tsv\n",
            "download: s3://openneuro.org/ds004504/sub-015/eeg/sub-015_task-eyesclosed_eeg.set to alzheimer_eeg_data/sub-015/eeg/sub-015_task-eyesclosed_eeg.set\n",
            "download: s3://openneuro.org/ds004504/sub-017/eeg/sub-017_task-eyesclosed_eeg.set to alzheimer_eeg_data/sub-017/eeg/sub-017_task-eyesclosed_eeg.set\n",
            "download: s3://openneuro.org/ds004504/sub-018/eeg/sub-018_task-eyesclosed_eeg.set to alzheimer_eeg_data/sub-018/eeg/sub-018_task-eyesclosed_eeg.set\n",
            "download: s3://openneuro.org/ds004504/sub-019/eeg/sub-019_task-eyesclosed_eeg.set to alzheimer_eeg_data/sub-019/eeg/sub-019_task-eyesclosed_eeg.set\n",
            "download: s3://openneuro.org/ds004504/sub-029/eeg/sub-029_task-eyesclosed_channels.tsv to alzheimer_eeg_data/sub-029/eeg/sub-029_task-eyesclosed_channels.tsv\n",
            "download: s3://openneuro.org/ds004504/sub-021/eeg/sub-021_task-eyesclosed_eeg.set to alzheimer_eeg_data/sub-021/eeg/sub-021_task-eyesclosed_eeg.set\n",
            "download: s3://openneuro.org/ds004504/sub-022/eeg/sub-022_task-eyesclosed_eeg.set to alzheimer_eeg_data/sub-022/eeg/sub-022_task-eyesclosed_eeg.set\n",
            "download: s3://openneuro.org/ds004504/sub-030/eeg/sub-030_task-eyesclosed_channels.tsv to alzheimer_eeg_data/sub-030/eeg/sub-030_task-eyesclosed_channels.tsv\n",
            "download: s3://openneuro.org/ds004504/sub-026/eeg/sub-026_task-eyesclosed_eeg.json to alzheimer_eeg_data/sub-026/eeg/sub-026_task-eyesclosed_eeg.json\n",
            "download: s3://openneuro.org/ds004504/sub-031/eeg/sub-031_task-eyesclosed_channels.tsv to alzheimer_eeg_data/sub-031/eeg/sub-031_task-eyesclosed_channels.tsv\n",
            "download: s3://openneuro.org/ds004504/sub-031/eeg/sub-031_task-eyesclosed_eeg.json to alzheimer_eeg_data/sub-031/eeg/sub-031_task-eyesclosed_eeg.json\n",
            "download: s3://openneuro.org/ds004504/sub-023/eeg/sub-023_task-eyesclosed_eeg.set to alzheimer_eeg_data/sub-023/eeg/sub-023_task-eyesclosed_eeg.set\n",
            "download: s3://openneuro.org/ds004504/sub-032/eeg/sub-032_task-eyesclosed_eeg.json to alzheimer_eeg_data/sub-032/eeg/sub-032_task-eyesclosed_eeg.json\n",
            "download: s3://openneuro.org/ds004504/sub-024/eeg/sub-024_task-eyesclosed_eeg.set to alzheimer_eeg_data/sub-024/eeg/sub-024_task-eyesclosed_eeg.set\n",
            "download: s3://openneuro.org/ds004504/sub-025/eeg/sub-025_task-eyesclosed_channels.tsv to alzheimer_eeg_data/sub-025/eeg/sub-025_task-eyesclosed_channels.tsv\n",
            "download: s3://openneuro.org/ds004504/sub-032/eeg/sub-032_task-eyesclosed_channels.tsv to alzheimer_eeg_data/sub-032/eeg/sub-032_task-eyesclosed_channels.tsv\n",
            "download: s3://openneuro.org/ds004504/sub-029/eeg/sub-029_task-eyesclosed_eeg.json to alzheimer_eeg_data/sub-029/eeg/sub-029_task-eyesclosed_eeg.json\n",
            "download: s3://openneuro.org/ds004504/sub-033/eeg/sub-033_task-eyesclosed_eeg.json to alzheimer_eeg_data/sub-033/eeg/sub-033_task-eyesclosed_eeg.json\n",
            "download: s3://openneuro.org/ds004504/sub-025/eeg/sub-025_task-eyesclosed_eeg.set to alzheimer_eeg_data/sub-025/eeg/sub-025_task-eyesclosed_eeg.set\n",
            "download: s3://openneuro.org/ds004504/sub-027/eeg/sub-027_task-eyesclosed_eeg.set to alzheimer_eeg_data/sub-027/eeg/sub-027_task-eyesclosed_eeg.set\n",
            "download: s3://openneuro.org/ds004504/sub-034/eeg/sub-034_task-eyesclosed_channels.tsv to alzheimer_eeg_data/sub-034/eeg/sub-034_task-eyesclosed_channels.tsv\n",
            "download: s3://openneuro.org/ds004504/sub-033/eeg/sub-033_task-eyesclosed_channels.tsv to alzheimer_eeg_data/sub-033/eeg/sub-033_task-eyesclosed_channels.tsv\n",
            "download: s3://openneuro.org/ds004504/sub-034/eeg/sub-034_task-eyesclosed_eeg.json to alzheimer_eeg_data/sub-034/eeg/sub-034_task-eyesclosed_eeg.json\n",
            "download: s3://openneuro.org/ds004504/sub-035/eeg/sub-035_task-eyesclosed_eeg.json to alzheimer_eeg_data/sub-035/eeg/sub-035_task-eyesclosed_eeg.json\n",
            "download: s3://openneuro.org/ds004504/sub-035/eeg/sub-035_task-eyesclosed_channels.tsv to alzheimer_eeg_data/sub-035/eeg/sub-035_task-eyesclosed_channels.tsv\n",
            "download: s3://openneuro.org/ds004504/sub-020/eeg/sub-020_task-eyesclosed_eeg.set to alzheimer_eeg_data/sub-020/eeg/sub-020_task-eyesclosed_eeg.set\n",
            "download: s3://openneuro.org/ds004504/sub-028/eeg/sub-028_task-eyesclosed_eeg.json to alzheimer_eeg_data/sub-028/eeg/sub-028_task-eyesclosed_eeg.json\n",
            "download: s3://openneuro.org/ds004504/sub-036/eeg/sub-036_task-eyesclosed_eeg.json to alzheimer_eeg_data/sub-036/eeg/sub-036_task-eyesclosed_eeg.json\n",
            "download: s3://openneuro.org/ds004504/sub-037/eeg/sub-037_task-eyesclosed_eeg.json to alzheimer_eeg_data/sub-037/eeg/sub-037_task-eyesclosed_eeg.json\n",
            "download: s3://openneuro.org/ds004504/sub-028/eeg/sub-028_task-eyesclosed_eeg.set to alzheimer_eeg_data/sub-028/eeg/sub-028_task-eyesclosed_eeg.set\n",
            "download: s3://openneuro.org/ds004504/sub-037/eeg/sub-037_task-eyesclosed_channels.tsv to alzheimer_eeg_data/sub-037/eeg/sub-037_task-eyesclosed_channels.tsv\n",
            "download: s3://openneuro.org/ds004504/sub-026/eeg/sub-026_task-eyesclosed_eeg.set to alzheimer_eeg_data/sub-026/eeg/sub-026_task-eyesclosed_eeg.set\n",
            "download: s3://openneuro.org/ds004504/sub-038/eeg/sub-038_task-eyesclosed_channels.tsv to alzheimer_eeg_data/sub-038/eeg/sub-038_task-eyesclosed_channels.tsv\n",
            "download: s3://openneuro.org/ds004504/sub-029/eeg/sub-029_task-eyesclosed_eeg.set to alzheimer_eeg_data/sub-029/eeg/sub-029_task-eyesclosed_eeg.set\n",
            "download: s3://openneuro.org/ds004504/sub-030/eeg/sub-030_task-eyesclosed_eeg.set to alzheimer_eeg_data/sub-030/eeg/sub-030_task-eyesclosed_eeg.set\n",
            "download: s3://openneuro.org/ds004504/sub-031/eeg/sub-031_task-eyesclosed_eeg.set to alzheimer_eeg_data/sub-031/eeg/sub-031_task-eyesclosed_eeg.set\n",
            "download: s3://openneuro.org/ds004504/sub-039/eeg/sub-039_task-eyesclosed_channels.tsv to alzheimer_eeg_data/sub-039/eeg/sub-039_task-eyesclosed_channels.tsv\n",
            "download: s3://openneuro.org/ds004504/sub-039/eeg/sub-039_task-eyesclosed_eeg.json to alzheimer_eeg_data/sub-039/eeg/sub-039_task-eyesclosed_eeg.json\n",
            "download: s3://openneuro.org/ds004504/sub-030/eeg/sub-030_task-eyesclosed_eeg.json to alzheimer_eeg_data/sub-030/eeg/sub-030_task-eyesclosed_eeg.json\n",
            "download: s3://openneuro.org/ds004504/sub-032/eeg/sub-032_task-eyesclosed_eeg.set to alzheimer_eeg_data/sub-032/eeg/sub-032_task-eyesclosed_eeg.set\n",
            "download: s3://openneuro.org/ds004504/sub-033/eeg/sub-033_task-eyesclosed_eeg.set to alzheimer_eeg_data/sub-033/eeg/sub-033_task-eyesclosed_eeg.set\n",
            "download: s3://openneuro.org/ds004504/sub-040/eeg/sub-040_task-eyesclosed_channels.tsv to alzheimer_eeg_data/sub-040/eeg/sub-040_task-eyesclosed_channels.tsv\n",
            "download: s3://openneuro.org/ds004504/sub-040/eeg/sub-040_task-eyesclosed_eeg.json to alzheimer_eeg_data/sub-040/eeg/sub-040_task-eyesclosed_eeg.json\n",
            "download: s3://openneuro.org/ds004504/sub-036/eeg/sub-036_task-eyesclosed_channels.tsv to alzheimer_eeg_data/sub-036/eeg/sub-036_task-eyesclosed_channels.tsv\n",
            "download: s3://openneuro.org/ds004504/sub-041/eeg/sub-041_task-eyesclosed_eeg.json to alzheimer_eeg_data/sub-041/eeg/sub-041_task-eyesclosed_eeg.json\n",
            "download: s3://openneuro.org/ds004504/sub-035/eeg/sub-035_task-eyesclosed_eeg.set to alzheimer_eeg_data/sub-035/eeg/sub-035_task-eyesclosed_eeg.set\n",
            "download: s3://openneuro.org/ds004504/sub-037/eeg/sub-037_task-eyesclosed_eeg.set to alzheimer_eeg_data/sub-037/eeg/sub-037_task-eyesclosed_eeg.set\n",
            "download: s3://openneuro.org/ds004504/sub-034/eeg/sub-034_task-eyesclosed_eeg.set to alzheimer_eeg_data/sub-034/eeg/sub-034_task-eyesclosed_eeg.set\n",
            "download: s3://openneuro.org/ds004504/sub-042/eeg/sub-042_task-eyesclosed_channels.tsv to alzheimer_eeg_data/sub-042/eeg/sub-042_task-eyesclosed_channels.tsv\n",
            "download: s3://openneuro.org/ds004504/sub-038/eeg/sub-038_task-eyesclosed_eeg.set to alzheimer_eeg_data/sub-038/eeg/sub-038_task-eyesclosed_eeg.set\n",
            "download: s3://openneuro.org/ds004504/sub-042/eeg/sub-042_task-eyesclosed_eeg.json to alzheimer_eeg_data/sub-042/eeg/sub-042_task-eyesclosed_eeg.json\n",
            "download: s3://openneuro.org/ds004504/sub-041/eeg/sub-041_task-eyesclosed_eeg.set to alzheimer_eeg_data/sub-041/eeg/sub-041_task-eyesclosed_eeg.set\n",
            "download: s3://openneuro.org/ds004504/sub-040/eeg/sub-040_task-eyesclosed_eeg.set to alzheimer_eeg_data/sub-040/eeg/sub-040_task-eyesclosed_eeg.set\n",
            "download: s3://openneuro.org/ds004504/sub-038/eeg/sub-038_task-eyesclosed_eeg.json to alzheimer_eeg_data/sub-038/eeg/sub-038_task-eyesclosed_eeg.json\n",
            "download: s3://openneuro.org/ds004504/sub-042/eeg/sub-042_task-eyesclosed_eeg.set to alzheimer_eeg_data/sub-042/eeg/sub-042_task-eyesclosed_eeg.set\n",
            "download: s3://openneuro.org/ds004504/sub-036/eeg/sub-036_task-eyesclosed_eeg.set to alzheimer_eeg_data/sub-036/eeg/sub-036_task-eyesclosed_eeg.set\n",
            "download: s3://openneuro.org/ds004504/sub-044/eeg/sub-044_task-eyesclosed_eeg.json to alzheimer_eeg_data/sub-044/eeg/sub-044_task-eyesclosed_eeg.json\n",
            "download: s3://openneuro.org/ds004504/sub-044/eeg/sub-044_task-eyesclosed_channels.tsv to alzheimer_eeg_data/sub-044/eeg/sub-044_task-eyesclosed_channels.tsv\n",
            "download: s3://openneuro.org/ds004504/sub-045/eeg/sub-045_task-eyesclosed_channels.tsv to alzheimer_eeg_data/sub-045/eeg/sub-045_task-eyesclosed_channels.tsv\n",
            "download: s3://openneuro.org/ds004504/sub-045/eeg/sub-045_task-eyesclosed_eeg.json to alzheimer_eeg_data/sub-045/eeg/sub-045_task-eyesclosed_eeg.json\n",
            "download: s3://openneuro.org/ds004504/sub-039/eeg/sub-039_task-eyesclosed_eeg.set to alzheimer_eeg_data/sub-039/eeg/sub-039_task-eyesclosed_eeg.set\n",
            "download: s3://openneuro.org/ds004504/sub-043/eeg/sub-043_task-eyesclosed_eeg.set to alzheimer_eeg_data/sub-043/eeg/sub-043_task-eyesclosed_eeg.set\n",
            "download: s3://openneuro.org/ds004504/sub-046/eeg/sub-046_task-eyesclosed_channels.tsv to alzheimer_eeg_data/sub-046/eeg/sub-046_task-eyesclosed_channels.tsv\n",
            "download: s3://openneuro.org/ds004504/sub-041/eeg/sub-041_task-eyesclosed_channels.tsv to alzheimer_eeg_data/sub-041/eeg/sub-041_task-eyesclosed_channels.tsv\n",
            "download: s3://openneuro.org/ds004504/sub-047/eeg/sub-047_task-eyesclosed_channels.tsv to alzheimer_eeg_data/sub-047/eeg/sub-047_task-eyesclosed_channels.tsv\n",
            "download: s3://openneuro.org/ds004504/sub-047/eeg/sub-047_task-eyesclosed_eeg.json to alzheimer_eeg_data/sub-047/eeg/sub-047_task-eyesclosed_eeg.json\n",
            "download: s3://openneuro.org/ds004504/sub-045/eeg/sub-045_task-eyesclosed_eeg.set to alzheimer_eeg_data/sub-045/eeg/sub-045_task-eyesclosed_eeg.set\n",
            "download: s3://openneuro.org/ds004504/sub-046/eeg/sub-046_task-eyesclosed_eeg.set to alzheimer_eeg_data/sub-046/eeg/sub-046_task-eyesclosed_eeg.set\n",
            "download: s3://openneuro.org/ds004504/sub-043/eeg/sub-043_task-eyesclosed_channels.tsv to alzheimer_eeg_data/sub-043/eeg/sub-043_task-eyesclosed_channels.tsv\n",
            "download: s3://openneuro.org/ds004504/sub-047/eeg/sub-047_task-eyesclosed_eeg.set to alzheimer_eeg_data/sub-047/eeg/sub-047_task-eyesclosed_eeg.set\n",
            "download: s3://openneuro.org/ds004504/sub-046/eeg/sub-046_task-eyesclosed_eeg.json to alzheimer_eeg_data/sub-046/eeg/sub-046_task-eyesclosed_eeg.json\n",
            "download: s3://openneuro.org/ds004504/sub-048/eeg/sub-048_task-eyesclosed_channels.tsv to alzheimer_eeg_data/sub-048/eeg/sub-048_task-eyesclosed_channels.tsv\n",
            "download: s3://openneuro.org/ds004504/sub-043/eeg/sub-043_task-eyesclosed_eeg.json to alzheimer_eeg_data/sub-043/eeg/sub-043_task-eyesclosed_eeg.json\n",
            "download: s3://openneuro.org/ds004504/sub-049/eeg/sub-049_task-eyesclosed_channels.tsv to alzheimer_eeg_data/sub-049/eeg/sub-049_task-eyesclosed_channels.tsv\n",
            "download: s3://openneuro.org/ds004504/sub-050/eeg/sub-050_task-eyesclosed_channels.tsv to alzheimer_eeg_data/sub-050/eeg/sub-050_task-eyesclosed_channels.tsv\n",
            "download: s3://openneuro.org/ds004504/sub-049/eeg/sub-049_task-eyesclosed_eeg.json to alzheimer_eeg_data/sub-049/eeg/sub-049_task-eyesclosed_eeg.json\n",
            "download: s3://openneuro.org/ds004504/sub-048/eeg/sub-048_task-eyesclosed_eeg.json to alzheimer_eeg_data/sub-048/eeg/sub-048_task-eyesclosed_eeg.json\n",
            "download: s3://openneuro.org/ds004504/sub-044/eeg/sub-044_task-eyesclosed_eeg.set to alzheimer_eeg_data/sub-044/eeg/sub-044_task-eyesclosed_eeg.set\n",
            "download: s3://openneuro.org/ds004504/sub-051/eeg/sub-051_task-eyesclosed_channels.tsv to alzheimer_eeg_data/sub-051/eeg/sub-051_task-eyesclosed_channels.tsv\n",
            "download: s3://openneuro.org/ds004504/sub-051/eeg/sub-051_task-eyesclosed_eeg.json to alzheimer_eeg_data/sub-051/eeg/sub-051_task-eyesclosed_eeg.json\n",
            "download: s3://openneuro.org/ds004504/sub-050/eeg/sub-050_task-eyesclosed_eeg.json to alzheimer_eeg_data/sub-050/eeg/sub-050_task-eyesclosed_eeg.json\n",
            "download: s3://openneuro.org/ds004504/sub-048/eeg/sub-048_task-eyesclosed_eeg.set to alzheimer_eeg_data/sub-048/eeg/sub-048_task-eyesclosed_eeg.set\n",
            "download: s3://openneuro.org/ds004504/sub-049/eeg/sub-049_task-eyesclosed_eeg.set to alzheimer_eeg_data/sub-049/eeg/sub-049_task-eyesclosed_eeg.set\n",
            "download: s3://openneuro.org/ds004504/sub-052/eeg/sub-052_task-eyesclosed_channels.tsv to alzheimer_eeg_data/sub-052/eeg/sub-052_task-eyesclosed_channels.tsv\n",
            "download: s3://openneuro.org/ds004504/sub-052/eeg/sub-052_task-eyesclosed_eeg.json to alzheimer_eeg_data/sub-052/eeg/sub-052_task-eyesclosed_eeg.json\n",
            "download: s3://openneuro.org/ds004504/sub-050/eeg/sub-050_task-eyesclosed_eeg.set to alzheimer_eeg_data/sub-050/eeg/sub-050_task-eyesclosed_eeg.set\n",
            "download: s3://openneuro.org/ds004504/sub-053/eeg/sub-053_task-eyesclosed_channels.tsv to alzheimer_eeg_data/sub-053/eeg/sub-053_task-eyesclosed_channels.tsv\n",
            "download: s3://openneuro.org/ds004504/sub-054/eeg/sub-054_task-eyesclosed_channels.tsv to alzheimer_eeg_data/sub-054/eeg/sub-054_task-eyesclosed_channels.tsv\n",
            "download: s3://openneuro.org/ds004504/sub-055/eeg/sub-055_task-eyesclosed_channels.tsv to alzheimer_eeg_data/sub-055/eeg/sub-055_task-eyesclosed_channels.tsv\n",
            "download: s3://openneuro.org/ds004504/sub-054/eeg/sub-054_task-eyesclosed_eeg.json to alzheimer_eeg_data/sub-054/eeg/sub-054_task-eyesclosed_eeg.json\n",
            "download: s3://openneuro.org/ds004504/sub-053/eeg/sub-053_task-eyesclosed_eeg.json to alzheimer_eeg_data/sub-053/eeg/sub-053_task-eyesclosed_eeg.json\n",
            "download: s3://openneuro.org/ds004504/sub-051/eeg/sub-051_task-eyesclosed_eeg.set to alzheimer_eeg_data/sub-051/eeg/sub-051_task-eyesclosed_eeg.set\n",
            "download: s3://openneuro.org/ds004504/sub-055/eeg/sub-055_task-eyesclosed_eeg.json to alzheimer_eeg_data/sub-055/eeg/sub-055_task-eyesclosed_eeg.json\n",
            "download: s3://openneuro.org/ds004504/sub-056/eeg/sub-056_task-eyesclosed_eeg.json to alzheimer_eeg_data/sub-056/eeg/sub-056_task-eyesclosed_eeg.json\n",
            "download: s3://openneuro.org/ds004504/sub-056/eeg/sub-056_task-eyesclosed_channels.tsv to alzheimer_eeg_data/sub-056/eeg/sub-056_task-eyesclosed_channels.tsv\n",
            "download: s3://openneuro.org/ds004504/sub-052/eeg/sub-052_task-eyesclosed_eeg.set to alzheimer_eeg_data/sub-052/eeg/sub-052_task-eyesclosed_eeg.set\n",
            "download: s3://openneuro.org/ds004504/sub-057/eeg/sub-057_task-eyesclosed_channels.tsv to alzheimer_eeg_data/sub-057/eeg/sub-057_task-eyesclosed_channels.tsv\n",
            "download: s3://openneuro.org/ds004504/sub-057/eeg/sub-057_task-eyesclosed_eeg.json to alzheimer_eeg_data/sub-057/eeg/sub-057_task-eyesclosed_eeg.json\n",
            "download: s3://openneuro.org/ds004504/sub-059/eeg/sub-059_task-eyesclosed_channels.tsv to alzheimer_eeg_data/sub-059/eeg/sub-059_task-eyesclosed_channels.tsv\n",
            "download: s3://openneuro.org/ds004504/sub-059/eeg/sub-059_task-eyesclosed_eeg.json to alzheimer_eeg_data/sub-059/eeg/sub-059_task-eyesclosed_eeg.json\n",
            "download: s3://openneuro.org/ds004504/sub-053/eeg/sub-053_task-eyesclosed_eeg.set to alzheimer_eeg_data/sub-053/eeg/sub-053_task-eyesclosed_eeg.set\n",
            "download: s3://openneuro.org/ds004504/sub-060/eeg/sub-060_task-eyesclosed_eeg.json to alzheimer_eeg_data/sub-060/eeg/sub-060_task-eyesclosed_eeg.json\n",
            "download: s3://openneuro.org/ds004504/sub-060/eeg/sub-060_task-eyesclosed_channels.tsv to alzheimer_eeg_data/sub-060/eeg/sub-060_task-eyesclosed_channels.tsv\n",
            "download: s3://openneuro.org/ds004504/sub-058/eeg/sub-058_task-eyesclosed_channels.tsv to alzheimer_eeg_data/sub-058/eeg/sub-058_task-eyesclosed_channels.tsv\n",
            "download: s3://openneuro.org/ds004504/sub-061/eeg/sub-061_task-eyesclosed_channels.tsv to alzheimer_eeg_data/sub-061/eeg/sub-061_task-eyesclosed_channels.tsv\n",
            "download: s3://openneuro.org/ds004504/sub-058/eeg/sub-058_task-eyesclosed_eeg.json to alzheimer_eeg_data/sub-058/eeg/sub-058_task-eyesclosed_eeg.json\n",
            "download: s3://openneuro.org/ds004504/sub-054/eeg/sub-054_task-eyesclosed_eeg.set to alzheimer_eeg_data/sub-054/eeg/sub-054_task-eyesclosed_eeg.set\n",
            "download: s3://openneuro.org/ds004504/sub-055/eeg/sub-055_task-eyesclosed_eeg.set to alzheimer_eeg_data/sub-055/eeg/sub-055_task-eyesclosed_eeg.set\n",
            "download: s3://openneuro.org/ds004504/sub-062/eeg/sub-062_task-eyesclosed_eeg.json to alzheimer_eeg_data/sub-062/eeg/sub-062_task-eyesclosed_eeg.json\n",
            "download: s3://openneuro.org/ds004504/sub-063/eeg/sub-063_task-eyesclosed_eeg.json to alzheimer_eeg_data/sub-063/eeg/sub-063_task-eyesclosed_eeg.json\n",
            "download: s3://openneuro.org/ds004504/sub-061/eeg/sub-061_task-eyesclosed_eeg.json to alzheimer_eeg_data/sub-061/eeg/sub-061_task-eyesclosed_eeg.json\n",
            "download: s3://openneuro.org/ds004504/sub-064/eeg/sub-064_task-eyesclosed_channels.tsv to alzheimer_eeg_data/sub-064/eeg/sub-064_task-eyesclosed_channels.tsv\n",
            "download: s3://openneuro.org/ds004504/sub-064/eeg/sub-064_task-eyesclosed_eeg.json to alzheimer_eeg_data/sub-064/eeg/sub-064_task-eyesclosed_eeg.json\n",
            "download: s3://openneuro.org/ds004504/sub-062/eeg/sub-062_task-eyesclosed_channels.tsv to alzheimer_eeg_data/sub-062/eeg/sub-062_task-eyesclosed_channels.tsv\n",
            "download: s3://openneuro.org/ds004504/sub-065/eeg/sub-065_task-eyesclosed_eeg.json to alzheimer_eeg_data/sub-065/eeg/sub-065_task-eyesclosed_eeg.json\n",
            "download: s3://openneuro.org/ds004504/sub-065/eeg/sub-065_task-eyesclosed_channels.tsv to alzheimer_eeg_data/sub-065/eeg/sub-065_task-eyesclosed_channels.tsv\n",
            "download: s3://openneuro.org/ds004504/sub-066/eeg/sub-066_task-eyesclosed_channels.tsv to alzheimer_eeg_data/sub-066/eeg/sub-066_task-eyesclosed_channels.tsv\n",
            "download: s3://openneuro.org/ds004504/sub-067/eeg/sub-067_task-eyesclosed_channels.tsv to alzheimer_eeg_data/sub-067/eeg/sub-067_task-eyesclosed_channels.tsv\n",
            "download: s3://openneuro.org/ds004504/sub-063/eeg/sub-063_task-eyesclosed_channels.tsv to alzheimer_eeg_data/sub-063/eeg/sub-063_task-eyesclosed_channels.tsv\n",
            "download: s3://openneuro.org/ds004504/sub-068/eeg/sub-068_task-eyesclosed_eeg.json to alzheimer_eeg_data/sub-068/eeg/sub-068_task-eyesclosed_eeg.json\n",
            "download: s3://openneuro.org/ds004504/sub-066/eeg/sub-066_task-eyesclosed_eeg.json to alzheimer_eeg_data/sub-066/eeg/sub-066_task-eyesclosed_eeg.json\n",
            "download: s3://openneuro.org/ds004504/sub-057/eeg/sub-057_task-eyesclosed_eeg.set to alzheimer_eeg_data/sub-057/eeg/sub-057_task-eyesclosed_eeg.set\n",
            "download: s3://openneuro.org/ds004504/sub-059/eeg/sub-059_task-eyesclosed_eeg.set to alzheimer_eeg_data/sub-059/eeg/sub-059_task-eyesclosed_eeg.set\n",
            "download: s3://openneuro.org/ds004504/sub-067/eeg/sub-067_task-eyesclosed_eeg.json to alzheimer_eeg_data/sub-067/eeg/sub-067_task-eyesclosed_eeg.json\n",
            "download: s3://openneuro.org/ds004504/sub-068/eeg/sub-068_task-eyesclosed_channels.tsv to alzheimer_eeg_data/sub-068/eeg/sub-068_task-eyesclosed_channels.tsv\n",
            "download: s3://openneuro.org/ds004504/sub-061/eeg/sub-061_task-eyesclosed_eeg.set to alzheimer_eeg_data/sub-061/eeg/sub-061_task-eyesclosed_eeg.set\n",
            "download: s3://openneuro.org/ds004504/sub-056/eeg/sub-056_task-eyesclosed_eeg.set to alzheimer_eeg_data/sub-056/eeg/sub-056_task-eyesclosed_eeg.set\n",
            "download: s3://openneuro.org/ds004504/sub-071/eeg/sub-071_task-eyesclosed_channels.tsv to alzheimer_eeg_data/sub-071/eeg/sub-071_task-eyesclosed_channels.tsv\n",
            "download: s3://openneuro.org/ds004504/sub-069/eeg/sub-069_task-eyesclosed_eeg.json to alzheimer_eeg_data/sub-069/eeg/sub-069_task-eyesclosed_eeg.json\n",
            "download: s3://openneuro.org/ds004504/sub-071/eeg/sub-071_task-eyesclosed_eeg.json to alzheimer_eeg_data/sub-071/eeg/sub-071_task-eyesclosed_eeg.json\n",
            "download: s3://openneuro.org/ds004504/sub-060/eeg/sub-060_task-eyesclosed_eeg.set to alzheimer_eeg_data/sub-060/eeg/sub-060_task-eyesclosed_eeg.set\n",
            "download: s3://openneuro.org/ds004504/sub-058/eeg/sub-058_task-eyesclosed_eeg.set to alzheimer_eeg_data/sub-058/eeg/sub-058_task-eyesclosed_eeg.set\n",
            "download: s3://openneuro.org/ds004504/sub-072/eeg/sub-072_task-eyesclosed_channels.tsv to alzheimer_eeg_data/sub-072/eeg/sub-072_task-eyesclosed_channels.tsv\n",
            "download: s3://openneuro.org/ds004504/sub-072/eeg/sub-072_task-eyesclosed_eeg.json to alzheimer_eeg_data/sub-072/eeg/sub-072_task-eyesclosed_eeg.json\n",
            "download: s3://openneuro.org/ds004504/sub-069/eeg/sub-069_task-eyesclosed_channels.tsv to alzheimer_eeg_data/sub-069/eeg/sub-069_task-eyesclosed_channels.tsv\n",
            "download: s3://openneuro.org/ds004504/sub-070/eeg/sub-070_task-eyesclosed_eeg.json to alzheimer_eeg_data/sub-070/eeg/sub-070_task-eyesclosed_eeg.json\n",
            "download: s3://openneuro.org/ds004504/sub-064/eeg/sub-064_task-eyesclosed_eeg.set to alzheimer_eeg_data/sub-064/eeg/sub-064_task-eyesclosed_eeg.set\n",
            "download: s3://openneuro.org/ds004504/sub-062/eeg/sub-062_task-eyesclosed_eeg.set to alzheimer_eeg_data/sub-062/eeg/sub-062_task-eyesclosed_eeg.set\n",
            "download: s3://openneuro.org/ds004504/sub-074/eeg/sub-074_task-eyesclosed_channels.tsv to alzheimer_eeg_data/sub-074/eeg/sub-074_task-eyesclosed_channels.tsv\n",
            "download: s3://openneuro.org/ds004504/sub-074/eeg/sub-074_task-eyesclosed_eeg.json to alzheimer_eeg_data/sub-074/eeg/sub-074_task-eyesclosed_eeg.json\n",
            "download: s3://openneuro.org/ds004504/sub-066/eeg/sub-066_task-eyesclosed_eeg.set to alzheimer_eeg_data/sub-066/eeg/sub-066_task-eyesclosed_eeg.set\n",
            "download: s3://openneuro.org/ds004504/sub-063/eeg/sub-063_task-eyesclosed_eeg.set to alzheimer_eeg_data/sub-063/eeg/sub-063_task-eyesclosed_eeg.set\n",
            "download: s3://openneuro.org/ds004504/sub-065/eeg/sub-065_task-eyesclosed_eeg.set to alzheimer_eeg_data/sub-065/eeg/sub-065_task-eyesclosed_eeg.set\n",
            "download: s3://openneuro.org/ds004504/sub-075/eeg/sub-075_task-eyesclosed_eeg.json to alzheimer_eeg_data/sub-075/eeg/sub-075_task-eyesclosed_eeg.json\n",
            "download: s3://openneuro.org/ds004504/sub-067/eeg/sub-067_task-eyesclosed_eeg.set to alzheimer_eeg_data/sub-067/eeg/sub-067_task-eyesclosed_eeg.set\n",
            "download: s3://openneuro.org/ds004504/sub-076/eeg/sub-076_task-eyesclosed_channels.tsv to alzheimer_eeg_data/sub-076/eeg/sub-076_task-eyesclosed_channels.tsv\n",
            "download: s3://openneuro.org/ds004504/sub-076/eeg/sub-076_task-eyesclosed_eeg.json to alzheimer_eeg_data/sub-076/eeg/sub-076_task-eyesclosed_eeg.json\n",
            "download: s3://openneuro.org/ds004504/sub-069/eeg/sub-069_task-eyesclosed_eeg.set to alzheimer_eeg_data/sub-069/eeg/sub-069_task-eyesclosed_eeg.set\n",
            "download: s3://openneuro.org/ds004504/sub-073/eeg/sub-073_task-eyesclosed_channels.tsv to alzheimer_eeg_data/sub-073/eeg/sub-073_task-eyesclosed_channels.tsv\n",
            "download: s3://openneuro.org/ds004504/sub-068/eeg/sub-068_task-eyesclosed_eeg.set to alzheimer_eeg_data/sub-068/eeg/sub-068_task-eyesclosed_eeg.set\n",
            "download: s3://openneuro.org/ds004504/sub-077/eeg/sub-077_task-eyesclosed_channels.tsv to alzheimer_eeg_data/sub-077/eeg/sub-077_task-eyesclosed_channels.tsv\n",
            "download: s3://openneuro.org/ds004504/sub-077/eeg/sub-077_task-eyesclosed_eeg.json to alzheimer_eeg_data/sub-077/eeg/sub-077_task-eyesclosed_eeg.json\n",
            "download: s3://openneuro.org/ds004504/sub-070/eeg/sub-070_task-eyesclosed_channels.tsv to alzheimer_eeg_data/sub-070/eeg/sub-070_task-eyesclosed_channels.tsv\n",
            "download: s3://openneuro.org/ds004504/sub-070/eeg/sub-070_task-eyesclosed_eeg.set to alzheimer_eeg_data/sub-070/eeg/sub-070_task-eyesclosed_eeg.set\n",
            "download: s3://openneuro.org/ds004504/sub-078/eeg/sub-078_task-eyesclosed_channels.tsv to alzheimer_eeg_data/sub-078/eeg/sub-078_task-eyesclosed_channels.tsv\n",
            "download: s3://openneuro.org/ds004504/sub-072/eeg/sub-072_task-eyesclosed_eeg.set to alzheimer_eeg_data/sub-072/eeg/sub-072_task-eyesclosed_eeg.set\n",
            "download: s3://openneuro.org/ds004504/sub-073/eeg/sub-073_task-eyesclosed_eeg.set to alzheimer_eeg_data/sub-073/eeg/sub-073_task-eyesclosed_eeg.set\n",
            "download: s3://openneuro.org/ds004504/sub-079/eeg/sub-079_task-eyesclosed_channels.tsv to alzheimer_eeg_data/sub-079/eeg/sub-079_task-eyesclosed_channels.tsv\n",
            "download: s3://openneuro.org/ds004504/sub-079/eeg/sub-079_task-eyesclosed_eeg.json to alzheimer_eeg_data/sub-079/eeg/sub-079_task-eyesclosed_eeg.json\n",
            "download: s3://openneuro.org/ds004504/sub-075/eeg/sub-075_task-eyesclosed_channels.tsv to alzheimer_eeg_data/sub-075/eeg/sub-075_task-eyesclosed_channels.tsv\n",
            "download: s3://openneuro.org/ds004504/sub-080/eeg/sub-080_task-eyesclosed_eeg.json to alzheimer_eeg_data/sub-080/eeg/sub-080_task-eyesclosed_eeg.json\n",
            "download: s3://openneuro.org/ds004504/sub-074/eeg/sub-074_task-eyesclosed_eeg.set to alzheimer_eeg_data/sub-074/eeg/sub-074_task-eyesclosed_eeg.set\n",
            "download: s3://openneuro.org/ds004504/sub-080/eeg/sub-080_task-eyesclosed_channels.tsv to alzheimer_eeg_data/sub-080/eeg/sub-080_task-eyesclosed_channels.tsv\n",
            "download: s3://openneuro.org/ds004504/sub-071/eeg/sub-071_task-eyesclosed_eeg.set to alzheimer_eeg_data/sub-071/eeg/sub-071_task-eyesclosed_eeg.set\n",
            "download: s3://openneuro.org/ds004504/sub-075/eeg/sub-075_task-eyesclosed_eeg.set to alzheimer_eeg_data/sub-075/eeg/sub-075_task-eyesclosed_eeg.set\n",
            "download: s3://openneuro.org/ds004504/sub-081/eeg/sub-081_task-eyesclosed_eeg.json to alzheimer_eeg_data/sub-081/eeg/sub-081_task-eyesclosed_eeg.json\n",
            "download: s3://openneuro.org/ds004504/sub-082/eeg/sub-082_task-eyesclosed_channels.tsv to alzheimer_eeg_data/sub-082/eeg/sub-082_task-eyesclosed_channels.tsv\n",
            "download: s3://openneuro.org/ds004504/sub-082/eeg/sub-082_task-eyesclosed_eeg.json to alzheimer_eeg_data/sub-082/eeg/sub-082_task-eyesclosed_eeg.json\n",
            "download: s3://openneuro.org/ds004504/sub-078/eeg/sub-078_task-eyesclosed_eeg.set to alzheimer_eeg_data/sub-078/eeg/sub-078_task-eyesclosed_eeg.set\n",
            "download: s3://openneuro.org/ds004504/sub-077/eeg/sub-077_task-eyesclosed_eeg.set to alzheimer_eeg_data/sub-077/eeg/sub-077_task-eyesclosed_eeg.set\n",
            "download: s3://openneuro.org/ds004504/sub-073/eeg/sub-073_task-eyesclosed_eeg.json to alzheimer_eeg_data/sub-073/eeg/sub-073_task-eyesclosed_eeg.json\n",
            "download: s3://openneuro.org/ds004504/sub-083/eeg/sub-083_task-eyesclosed_eeg.json to alzheimer_eeg_data/sub-083/eeg/sub-083_task-eyesclosed_eeg.json\n",
            "download: s3://openneuro.org/ds004504/sub-080/eeg/sub-080_task-eyesclosed_eeg.set to alzheimer_eeg_data/sub-080/eeg/sub-080_task-eyesclosed_eeg.set\n",
            "download: s3://openneuro.org/ds004504/sub-076/eeg/sub-076_task-eyesclosed_eeg.set to alzheimer_eeg_data/sub-076/eeg/sub-076_task-eyesclosed_eeg.set\n",
            "download: s3://openneuro.org/ds004504/sub-084/eeg/sub-084_task-eyesclosed_channels.tsv to alzheimer_eeg_data/sub-084/eeg/sub-084_task-eyesclosed_channels.tsv\n",
            "download: s3://openneuro.org/ds004504/sub-084/eeg/sub-084_task-eyesclosed_eeg.json to alzheimer_eeg_data/sub-084/eeg/sub-084_task-eyesclosed_eeg.json\n",
            "download: s3://openneuro.org/ds004504/sub-082/eeg/sub-082_task-eyesclosed_eeg.set to alzheimer_eeg_data/sub-082/eeg/sub-082_task-eyesclosed_eeg.set\n",
            "download: s3://openneuro.org/ds004504/sub-085/eeg/sub-085_task-eyesclosed_eeg.json to alzheimer_eeg_data/sub-085/eeg/sub-085_task-eyesclosed_eeg.json\n",
            "download: s3://openneuro.org/ds004504/sub-085/eeg/sub-085_task-eyesclosed_channels.tsv to alzheimer_eeg_data/sub-085/eeg/sub-085_task-eyesclosed_channels.tsv\n",
            "download: s3://openneuro.org/ds004504/sub-083/eeg/sub-083_task-eyesclosed_channels.tsv to alzheimer_eeg_data/sub-083/eeg/sub-083_task-eyesclosed_channels.tsv\n",
            "download: s3://openneuro.org/ds004504/sub-081/eeg/sub-081_task-eyesclosed_channels.tsv to alzheimer_eeg_data/sub-081/eeg/sub-081_task-eyesclosed_channels.tsv\n",
            "download: s3://openneuro.org/ds004504/sub-081/eeg/sub-081_task-eyesclosed_eeg.set to alzheimer_eeg_data/sub-081/eeg/sub-081_task-eyesclosed_eeg.set\n",
            "download: s3://openneuro.org/ds004504/sub-083/eeg/sub-083_task-eyesclosed_eeg.set to alzheimer_eeg_data/sub-083/eeg/sub-083_task-eyesclosed_eeg.set\n",
            "download: s3://openneuro.org/ds004504/sub-087/eeg/sub-087_task-eyesclosed_channels.tsv to alzheimer_eeg_data/sub-087/eeg/sub-087_task-eyesclosed_channels.tsv\n",
            "download: s3://openneuro.org/ds004504/sub-085/eeg/sub-085_task-eyesclosed_eeg.set to alzheimer_eeg_data/sub-085/eeg/sub-085_task-eyesclosed_eeg.set\n",
            "download: s3://openneuro.org/ds004504/sub-079/eeg/sub-079_task-eyesclosed_eeg.set to alzheimer_eeg_data/sub-079/eeg/sub-079_task-eyesclosed_eeg.set\n",
            "download: s3://openneuro.org/ds004504/sub-086/eeg/sub-086_task-eyesclosed_channels.tsv to alzheimer_eeg_data/sub-086/eeg/sub-086_task-eyesclosed_channels.tsv\n",
            "download: s3://openneuro.org/ds004504/sub-088/eeg/sub-088_task-eyesclosed_channels.tsv to alzheimer_eeg_data/sub-088/eeg/sub-088_task-eyesclosed_channels.tsv\n",
            "download: s3://openneuro.org/ds004504/sub-088/eeg/sub-088_task-eyesclosed_eeg.json to alzheimer_eeg_data/sub-088/eeg/sub-088_task-eyesclosed_eeg.json\n",
            "download: s3://openneuro.org/ds004504/sub-086/eeg/sub-086_task-eyesclosed_eeg.set to alzheimer_eeg_data/sub-086/eeg/sub-086_task-eyesclosed_eeg.set\n",
            "download: s3://openneuro.org/ds004504/sub-087/eeg/sub-087_task-eyesclosed_eeg.set to alzheimer_eeg_data/sub-087/eeg/sub-087_task-eyesclosed_eeg.set\n",
            "download: s3://openneuro.org/ds004504/sub-086/eeg/sub-086_task-eyesclosed_eeg.json to alzheimer_eeg_data/sub-086/eeg/sub-086_task-eyesclosed_eeg.json\n",
            "download: s3://openneuro.org/ds004504/sub-087/eeg/sub-087_task-eyesclosed_eeg.json to alzheimer_eeg_data/sub-087/eeg/sub-087_task-eyesclosed_eeg.json\n",
            "download: s3://openneuro.org/ds004504/sub-078/eeg/sub-078_task-eyesclosed_eeg.json to alzheimer_eeg_data/sub-078/eeg/sub-078_task-eyesclosed_eeg.json\n",
            "download: s3://openneuro.org/ds004504/sub-088/eeg/sub-088_task-eyesclosed_eeg.set to alzheimer_eeg_data/sub-088/eeg/sub-088_task-eyesclosed_eeg.set\n",
            "download: s3://openneuro.org/ds004504/sub-084/eeg/sub-084_task-eyesclosed_eeg.set to alzheimer_eeg_data/sub-084/eeg/sub-084_task-eyesclosed_eeg.set\n"
          ]
        }
      ],
      "source": [
        "!aws s3 sync --no-sign-request s3://openneuro.org/ds004504 alzheimer_eeg_data/"
      ]
    },
    {
      "cell_type": "code",
      "execution_count": null,
      "metadata": {
        "colab": {
          "background_save": true
        },
        "id": "KYpnXJ5Q7pW4",
        "outputId": "0f0e151a-e517-41e6-be3b-b7f14a6b4f5d"
      },
      "outputs": [
        {
          "name": "stdout",
          "output_type": "stream",
          "text": [
            "download: s3://physionet-open/chbmit/1.0.0/chb02/chb02-summary.txt to epilepsy_data/chb02-summary.txt\n",
            "download: s3://physionet-open/chbmit/1.0.0/chb02/chb02_01.edf to epilepsy_data/chb02_01.edf\n",
            "download: s3://physionet-open/chbmit/1.0.0/chb02/chb02_04.edf to epilepsy_data/chb02_04.edf\n",
            "download: s3://physionet-open/chbmit/1.0.0/chb02/chb02_03.edf to epilepsy_data/chb02_03.edf\n",
            "download: s3://physionet-open/chbmit/1.0.0/chb02/chb02_05.edf to epilepsy_data/chb02_05.edf\n",
            "download: s3://physionet-open/chbmit/1.0.0/chb02/chb02_06.edf to epilepsy_data/chb02_06.edf\n",
            "download: s3://physionet-open/chbmit/1.0.0/chb02/chb02_02.edf to epilepsy_data/chb02_02.edf\n",
            "download: s3://physionet-open/chbmit/1.0.0/chb02/chb02_07.edf to epilepsy_data/chb02_07.edf\n",
            "download: s3://physionet-open/chbmit/1.0.0/chb02/chb02_08.edf to epilepsy_data/chb02_08.edf\n",
            "download: s3://physionet-open/chbmit/1.0.0/chb02/chb02_16+.edf.seizures to epilepsy_data/chb02_16+.edf.seizures\n",
            "download: s3://physionet-open/chbmit/1.0.0/chb02/chb02_09.edf to epilepsy_data/chb02_09.edf\n",
            "download: s3://physionet-open/chbmit/1.0.0/chb02/chb02_10.edf to epilepsy_data/chb02_10.edf\n",
            "download: s3://physionet-open/chbmit/1.0.0/chb02/chb02_11.edf to epilepsy_data/chb02_11.edf\n",
            "download: s3://physionet-open/chbmit/1.0.0/chb02/chb02_12.edf to epilepsy_data/chb02_12.edf\n",
            "download: s3://physionet-open/chbmit/1.0.0/chb02/chb02_16.edf.seizures to epilepsy_data/chb02_16.edf.seizures\n",
            "download: s3://physionet-open/chbmit/1.0.0/chb02/chb02_13.edf to epilepsy_data/chb02_13.edf\n",
            "download: s3://physionet-open/chbmit/1.0.0/chb02/chb02_16.edf to epilepsy_data/chb02_16.edf\n",
            "download: s3://physionet-open/chbmit/1.0.0/chb02/chb02_19.edf.seizures to epilepsy_data/chb02_19.edf.seizures\n",
            "download: s3://physionet-open/chbmit/1.0.0/chb02/chb02_14.edf to epilepsy_data/chb02_14.edf\n",
            "download: s3://physionet-open/chbmit/1.0.0/chb02/chb02_16+.edf to epilepsy_data/chb02_16+.edf\n",
            "download: s3://physionet-open/chbmit/1.0.0/chb02/chb02_15.edf to epilepsy_data/chb02_15.edf\n",
            "download: s3://physionet-open/chbmit/1.0.0/chb02/chb02_17.edf to epilepsy_data/chb02_17.edf\n",
            "download: s3://physionet-open/chbmit/1.0.0/chb02/chb02_18.edf to epilepsy_data/chb02_18.edf\n",
            "download: s3://physionet-open/chbmit/1.0.0/chb02/chb02_19.edf to epilepsy_data/chb02_19.edf\n",
            "download: s3://physionet-open/chbmit/1.0.0/chb02/chb02_20.edf to epilepsy_data/chb02_20.edf\n",
            "download: s3://physionet-open/chbmit/1.0.0/chb02/chb02_21.edf to epilepsy_data/chb02_21.edf\n",
            "download: s3://physionet-open/chbmit/1.0.0/chb02/chb02_22.edf to epilepsy_data/chb02_22.edf\n",
            "download: s3://physionet-open/chbmit/1.0.0/chb02/chb02_23.edf to epilepsy_data/chb02_23.edf\n",
            "download: s3://physionet-open/chbmit/1.0.0/chb02/chb02_24.edf to epilepsy_data/chb02_24.edf\n",
            "download: s3://physionet-open/chbmit/1.0.0/chb02/chb02_25.edf to epilepsy_data/chb02_25.edf\n",
            "download: s3://physionet-open/chbmit/1.0.0/chb02/chb02_26.edf to epilepsy_data/chb02_26.edf\n",
            "download: s3://physionet-open/chbmit/1.0.0/chb02/chb02_27.edf to epilepsy_data/chb02_27.edf\n",
            "download: s3://physionet-open/chbmit/1.0.0/chb02/chb02_28.edf to epilepsy_data/chb02_28.edf\n",
            "download: s3://physionet-open/chbmit/1.0.0/chb02/chb02_30.edf to epilepsy_data/chb02_30.edf\n",
            "download: s3://physionet-open/chbmit/1.0.0/chb02/chb02_29.edf to epilepsy_data/chb02_29.edf\n",
            "download: s3://physionet-open/chbmit/1.0.0/chb02/chb02_31.edf to epilepsy_data/chb02_31.edf\n",
            "download: s3://physionet-open/chbmit/1.0.0/chb02/chb02_33.edf to epilepsy_data/chb02_33.edf\n",
            "download: s3://physionet-open/chbmit/1.0.0/chb02/chb02_34.edf to epilepsy_data/chb02_34.edf\n",
            "download: s3://physionet-open/chbmit/1.0.0/chb02/chb02_32.edf to epilepsy_data/chb02_32.edf\n",
            "download: s3://physionet-open/chbmit/1.0.0/chb02/chb02_35.edf to epilepsy_data/chb02_35.edf\n"
          ]
        }
      ],
      "source": [
        "!aws s3 sync --no-sign-request s3://physionet-open/chbmit/1.0.0/chb02 /content/epilepsy_data/"
      ]
    },
    {
      "cell_type": "markdown",
      "metadata": {
        "id": "Ku8KGqnWNRFn"
      },
      "source": [
        "# API"
      ]
    },
    {
      "cell_type": "code",
      "execution_count": null,
      "metadata": {
        "colab": {
          "background_save": true
        },
        "id": "zDT0NI2gxFCv",
        "outputId": "d1810f49-db89-49d1-f864-5f4935f985e0"
      },
      "outputs": [
        {
          "name": "stdout",
          "output_type": "stream",
          "text": [
            "Public URL: NgrokTunnel: \"https://semilunate-marcene-nonsustainable.ngrok-free.dev\" -> \"http://localhost:5000\"\n",
            " * Serving Flask app '__main__'\n",
            " * Debug mode: off\n"
          ]
        },
        {
          "name": "stderr",
          "output_type": "stream",
          "text": [
            "INFO:werkzeug:\u001b[31m\u001b[1mWARNING: This is a development server. Do not use it in a production deployment. Use a production WSGI server instead.\u001b[0m\n",
            " * Running on http://127.0.0.1:5000\n",
            "INFO:werkzeug:\u001b[33mPress CTRL+C to quit\u001b[0m\n",
            "WARNING:absl:Compiled the loaded model, but the compiled metrics have yet to be built. `model.compile_metrics` will be empty until you train or evaluate the model.\n",
            "INFO:werkzeug:127.0.0.1 - - [06/Oct/2025 10:07:18] \"POST /eeg_classify?subject_num=16 HTTP/1.1\" 200 -\n",
            "INFO:werkzeug:127.0.0.1 - - [06/Oct/2025 10:14:27] \"OPTIONS /ecg_data?name=00008_lr HTTP/1.1\" 200 -\n",
            "INFO:werkzeug:127.0.0.1 - - [06/Oct/2025 10:14:27] \"OPTIONS /ecg_data?name=00008_lr HTTP/1.1\" 200 -\n"
          ]
        },
        {
          "name": "stdout",
          "output_type": "stream",
          "text": [
            "Received request for name: 00008_lr\n"
          ]
        },
        {
          "name": "stderr",
          "output_type": "stream",
          "text": [
            "INFO:werkzeug:127.0.0.1 - - [06/Oct/2025 10:14:28] \"GET /ecg_data?name=00008_lr HTTP/1.1\" 200 -\n"
          ]
        },
        {
          "name": "stdout",
          "output_type": "stream",
          "text": [
            "Received request for name: 00008_lr\n"
          ]
        },
        {
          "name": "stderr",
          "output_type": "stream",
          "text": [
            "INFO:werkzeug:127.0.0.1 - - [06/Oct/2025 10:14:29] \"GET /ecg_data?name=00008_lr HTTP/1.1\" 200 -\n",
            "INFO:werkzeug:127.0.0.1 - - [06/Oct/2025 10:14:37] \"OPTIONS /ecg_classification?name=00008_lr HTTP/1.1\" 200 -\n",
            "INFO:werkzeug:127.0.0.1 - - [06/Oct/2025 10:14:37] \"OPTIONS /ecg_classification?name=00008_lr HTTP/1.1\" 200 -\n"
          ]
        },
        {
          "name": "stdout",
          "output_type": "stream",
          "text": [
            "Received request for name: 00008_lr\n"
          ]
        },
        {
          "name": "stderr",
          "output_type": "stream",
          "text": [
            "WARNING:absl:Compiled the loaded model, but the compiled metrics have yet to be built. `model.compile_metrics` will be empty until you train or evaluate the model.\n",
            "INFO:werkzeug:127.0.0.1 - - [06/Oct/2025 10:14:40] \"GET /ecg_classification?name=00008_lr HTTP/1.1\" 200 -\n"
          ]
        },
        {
          "name": "stdout",
          "output_type": "stream",
          "text": [
            "Received request for name: 00008_lr\n"
          ]
        },
        {
          "name": "stderr",
          "output_type": "stream",
          "text": [
            "INFO:werkzeug:127.0.0.1 - - [06/Oct/2025 10:14:42] \"GET /ecg_classification?name=00008_lr HTTP/1.1\" 200 -\n",
            "INFO:werkzeug:127.0.0.1 - - [06/Oct/2025 10:16:04] \"OPTIONS /ecg_data?name=00017_lr HTTP/1.1\" 200 -\n",
            "INFO:werkzeug:127.0.0.1 - - [06/Oct/2025 10:16:04] \"OPTIONS /ecg_data?name=00017_lr HTTP/1.1\" 200 -\n"
          ]
        },
        {
          "name": "stdout",
          "output_type": "stream",
          "text": [
            "Received request for name: 00017_lr\n"
          ]
        },
        {
          "name": "stderr",
          "output_type": "stream",
          "text": [
            "INFO:werkzeug:127.0.0.1 - - [06/Oct/2025 10:16:05] \"GET /ecg_data?name=00017_lr HTTP/1.1\" 200 -\n"
          ]
        },
        {
          "name": "stdout",
          "output_type": "stream",
          "text": [
            "Received request for name: 00017_lr\n"
          ]
        },
        {
          "name": "stderr",
          "output_type": "stream",
          "text": [
            "INFO:werkzeug:127.0.0.1 - - [06/Oct/2025 10:16:06] \"GET /ecg_data?name=00017_lr HTTP/1.1\" 200 -\n",
            "INFO:werkzeug:127.0.0.1 - - [06/Oct/2025 10:16:08] \"OPTIONS /ecg_classification?name=00017_lr HTTP/1.1\" 200 -\n",
            "INFO:werkzeug:127.0.0.1 - - [06/Oct/2025 10:16:08] \"OPTIONS /ecg_classification?name=00017_lr HTTP/1.1\" 200 -\n"
          ]
        },
        {
          "name": "stdout",
          "output_type": "stream",
          "text": [
            "Received request for name: 00017_lr\n"
          ]
        },
        {
          "name": "stderr",
          "output_type": "stream",
          "text": [
            "INFO:werkzeug:127.0.0.1 - - [06/Oct/2025 10:16:09] \"GET /ecg_classification?name=00017_lr HTTP/1.1\" 200 -\n"
          ]
        },
        {
          "name": "stdout",
          "output_type": "stream",
          "text": [
            "Received request for name: 00017_lr\n"
          ]
        },
        {
          "name": "stderr",
          "output_type": "stream",
          "text": [
            "INFO:werkzeug:127.0.0.1 - - [06/Oct/2025 10:16:10] \"GET /ecg_classification?name=00017_lr HTTP/1.1\" 200 -\n",
            "INFO:werkzeug:127.0.0.1 - - [06/Oct/2025 10:22:19] \"\u001b[31m\u001b[1mPOST /ecg_data?name=17 HTTP/1.1\u001b[0m\" 405 -\n",
            "INFO:werkzeug:127.0.0.1 - - [06/Oct/2025 10:22:52] \"\u001b[31m\u001b[1mPOST /ecg_data?name=00017_lr%20 HTTP/1.1\u001b[0m\" 405 -\n",
            "INFO:werkzeug:127.0.0.1 - - [06/Oct/2025 10:29:33] \"OPTIONS /upload-drone-wav HTTP/1.1\" 200 -\n"
          ]
        },
        {
          "name": "stdout",
          "output_type": "stream",
          "text": [
            "\u001b[1m1/1\u001b[0m \u001b[32m━━━━━━━━━━━━━━━━━━━━\u001b[0m\u001b[37m\u001b[0m \u001b[1m0s\u001b[0m 67ms/step\n"
          ]
        },
        {
          "name": "stderr",
          "output_type": "stream",
          "text": [
            "INFO:werkzeug:127.0.0.1 - - [06/Oct/2025 10:29:50] \"POST /upload-drone-wav HTTP/1.1\" 200 -\n",
            "INFO:werkzeug:127.0.0.1 - - [06/Oct/2025 10:30:24] \"OPTIONS /generate-doppler-sound?source_velocity=50&source_freq=150&normal_distance=10&half_simulation_duration=3 HTTP/1.1\" 200 -\n",
            "INFO:werkzeug:127.0.0.1 - - [06/Oct/2025 10:30:25] \"POST /generate-doppler-sound?source_velocity=50&source_freq=150&normal_distance=10&half_simulation_duration=3 HTTP/1.1\" 200 -\n"
          ]
        },
        {
          "name": "stdout",
          "output_type": "stream",
          "text": [
            "Wav file generated at: /content/Signal-Viewer-and-Classifier/api/doppler/doppler_effect.wav\n"
          ]
        },
        {
          "name": "stderr",
          "output_type": "stream",
          "text": [
            "INFO:werkzeug:127.0.0.1 - - [06/Oct/2025 10:30:46] \"OPTIONS /upload-drone-wav HTTP/1.1\" 200 -\n"
          ]
        },
        {
          "name": "stdout",
          "output_type": "stream",
          "text": [
            "\u001b[1m1/1\u001b[0m \u001b[32m━━━━━━━━━━━━━━━━━━━━\u001b[0m\u001b[37m\u001b[0m \u001b[1m0s\u001b[0m 34ms/step\n"
          ]
        },
        {
          "name": "stderr",
          "output_type": "stream",
          "text": [
            "INFO:werkzeug:127.0.0.1 - - [06/Oct/2025 10:30:48] \"POST /upload-drone-wav HTTP/1.1\" 200 -\n"
          ]
        }
      ],
      "source": [
        "from pyngrok import ngrok\n",
        "from flask import Flask, jsonify, request, send_file\n",
        "from flask_cors import CORS\n",
        "import os\n",
        "\n",
        "# Set your ngrok authtoken (optional but recommended)\n",
        "# Get it from https://dashboard.ngrok.com/get-started/your-authtoken\n",
        "# Replace with your actual authtoken\n",
        "ngrok.set_auth_token(\"33ePdi4rrqqYDFd0PlCHMleUlX3_cmX8hBHXncgfEbzuCeS3\")\n",
        "\n",
        "# Start ngrok tunnel\n",
        "# Ensure the Flask app runs on this port\n",
        "port = 5000\n",
        "public_url = ngrok.connect(port)\n",
        "print(\"Public URL:\", public_url)\n",
        "\n",
        "app = Flask(__name__)\n",
        "CORS(app) # Enable CORS for all origins\n",
        "\n",
        "# @app.route('/ecg_data/', defaults={'name': None}) # Handles /ecg_data/\n",
        "@app.route('/ecg_data') # Handles /ecg_data\n",
        "def get_ecg_data():\n",
        "    # Get 'name' from query parameters\n",
        "    name = request.args.get('name')\n",
        "    striped_name = str(name)[:5]\n",
        "    print(f\"Received request for name: {name}\") # Optional: for debugging\n",
        "\n",
        "    # Assuming ECG_data is a numpy array available in the global scope\n",
        "    # Convert the numpy array to a list for JSON serialization\n",
        "    ecg_data_list = retrieve_data_from_ecg_dataset(striped_name).tolist()\n",
        "    return jsonify(ecg_data_list)\n",
        "\n",
        "@app.route('/ecg_classification')\n",
        "def get_ecg_classification():\n",
        "    name = request.args.get('name')\n",
        "    striped_name = str(name)[:5]\n",
        "    print(f\"Received request for name: {name}\") # Optional: for debugging\n",
        "    return jsonify(classify_ecg_signal(striped_name))\n",
        "\n",
        "@app.route('/upload-drone-wav', methods=['POST'])\n",
        "def upload_drone_wav():\n",
        "    # Check if the request contains files\n",
        "    if 'wav_file' not in request.files:\n",
        "        return jsonify({'error': 'No file part in the request'}), 400\n",
        "\n",
        "    file = request.files['wav_file']\n",
        "\n",
        "    # If the user does not select a file, the browser submits an\n",
        "    # empty file without a filename.\n",
        "    if file.filename == '':\n",
        "        return jsonify({'error': 'No selected file'}), 400\n",
        "\n",
        "    if file:\n",
        "        # Securely save the file. You might want to add validation here\n",
        "        # to check if the file is actually a WAV file and sanitize the filename.\n",
        "        # For demonstration, saving to a temporary location with a fixed name.\n",
        "        # Consider using werkzeug.utils.secure_filename if saving user-provided filenames.\n",
        "        upload_dir = 'uploaded_drone_audio' # Use a specific directory for drone uploads\n",
        "        os.makedirs(upload_dir, exist_ok=True) # Create directory if it doesn't exist\n",
        "        # Using a fixed filename for simplicity in this example\n",
        "        filename = \"uploaded_drone_audio.wav\"\n",
        "        filepath = os.path.join(upload_dir, filename)\n",
        "\n",
        "        file.save(filepath)\n",
        "\n",
        "        return process_drone_audio(filepath)\n",
        "\n",
        "@app.route('/upload-sar-image', methods=['POST'])\n",
        "def upload_sar_image():\n",
        "    # Check if the request contains files\n",
        "    if 'sar_image' not in request.files:\n",
        "        return jsonify({'error': 'No file part in the request'}), 400\n",
        "\n",
        "    file = request.files['sar_image']\n",
        "\n",
        "    # If the user does not select a file, the browser submits an\n",
        "    # empty file without a filename.\n",
        "    if file.filename == '':\n",
        "        return jsonify({'error': 'No selected file'}), 400\n",
        "\n",
        "    if file:\n",
        "        # Securely save the file. You might want to add validation here\n",
        "        # to check if the file is actually a WAV file and sanitize the filename.\n",
        "        # For demonstration, saving to a temporary location with a fixed name.\n",
        "        # Consider using werkzeug.utils.secure_filename if saving user-provided filenames.\n",
        "        upload_dir = 'uploaded_sar_image' # Use a specific directory for drone uploads\n",
        "        os.makedirs(upload_dir, exist_ok=True) # Create directory if it doesn't exist\n",
        "        # Using a fixed filename for simplicity in this example\n",
        "        filename = \"uploaded_sar_image.bmp\"\n",
        "        filepath = os.path.join(upload_dir, filename)\n",
        "\n",
        "        file.save(filepath)\n",
        "\n",
        "        return analyze_sar_image(filepath)\n",
        "\n",
        "@app.route('/upload-eeg', methods=['POST'])\n",
        "def upload_eeg():\n",
        "    # Check if the request contains files\n",
        "    subject_num = int(request.args.get('subject_num'))\n",
        "    channel_num = int(request.args.get('channel_num'))\n",
        "    print(f\"Received request for subject_num: {subject_num}\") # Optional: for debugging\n",
        "    current_dir = os.getcwd()\n",
        "    alzheimer_eeg_data_path = os.path.join(current_dir, f'alzheimer_eeg_data/sub-{subject_num:03d}/eeg/sub-{subject_num:03d}_task-eyesclosed_eeg.set')\n",
        "    raw = mne.io.read_raw_eeglab(alzheimer_eeg_data_path)\n",
        "    number_of_channels = len(raw.info['ch_names'])\n",
        "    eeg_df = raw.to_data_frame()\n",
        "    single_channel_df = eeg_df.iloc[:5000, channel_num].tolist()\n",
        "\n",
        "    return jsonify({\n",
        "        'number_of_channels': number_of_channels,\n",
        "        # 'eeg_df': eeg_df.to_dict(orient='records')\n",
        "        'single_channel': single_channel_df\n",
        "    })\n",
        "\n",
        "@app.route('/eeg_classify', methods=['POST'])\n",
        "def eeg_classify():\n",
        "    subject_num = int(request.args.get('subject_num'))\n",
        "    return jsonify(\n",
        "      epilepsy_inference.predict_seizure(f\"/content/epilepsy_data/chb02_{subject_num:02d}.edf\")\n",
        "    )\n",
        "\n",
        "@app.route('/generate-doppler-sound', methods=['POST'])\n",
        "def generate_doppler_sound():\n",
        "    # Extract and validate parameters with defaults\n",
        "    source_velocity = request.args.get('source_velocity')\n",
        "    source_freq = request.args.get('source_freq')\n",
        "    normal_distance = request.args.get('normal_distance')\n",
        "    half_simulation_duration = request.args.get('half_simulation_duration')\n",
        "\n",
        "    # Generate the WAV file\n",
        "    doppler_effect_wav_generator(\n",
        "        source_velocity=float(source_velocity),\n",
        "        source_freq=float(source_freq),\n",
        "        normal_distance=float(normal_distance),\n",
        "        half_simulation_duration=float(half_simulation_duration)\n",
        "    )\n",
        "\n",
        "    # Construct the absolute path to the generated WAV file\n",
        "    # The file is saved in Signal-Viewer-and-Classifier/api/doppler/doppler_effect.wav\n",
        "    wav_file_relative_path_from_repo = os.path.join('api', 'doppler', 'doppler_effect.wav')\n",
        "    wav_file_absolute_path = os.path.join(repo_path, wav_file_relative_path_from_repo)\n",
        "\n",
        "    # Return the WAV file\n",
        "    return send_file(\n",
        "        wav_file_absolute_path,\n",
        "        mimetype='audio/wav',\n",
        "        as_attachment=True,\n",
        "        download_name='doppler_effect.wav'\n",
        "    )\n",
        "\n",
        "if __name__ == '__main__':\n",
        "    # Using threaded=False to avoid issues with Colab environment\n",
        "    app.run(port=port, threaded=False)"
      ]
    },
    {
      "cell_type": "code",
      "execution_count": null,
      "metadata": {
        "id": "cb2f54fe"
      },
      "outputs": [],
      "source": [
        "# !pip install -q torchcrepe soundfile"
      ]
    },
    {
      "cell_type": "code",
      "execution_count": null,
      "metadata": {
        "id": "z1D9HLpSCd_P"
      },
      "outputs": [],
      "source": [
        "# import torch\n",
        "# import torchaudio\n",
        "# import torchcrepe\n",
        "# import pandas as pd\n",
        "# import matplotlib.pyplot as plt\n",
        "# import numpy as np\n",
        "# repo_path = os.path.join(os.getcwd(), 'Signal-Viewer-and-Classifier')\n",
        "# audio_path = os.path.join(repo_path, 'api', 'doppler', 'doppler_effect.wav')\n",
        "# # =============== CONFIG ====================\n",
        "# fmin, fmax = 50, 550              # typical for human voice\n",
        "# # model = \"full\"                    # or \"tiny\" for faster inference\n",
        "# model = \"tiny\"\n",
        "# hop_length = None                 # auto = 5 ms hop (~200 fps)\n",
        "# device = \"cuda\" if torch.cuda.is_available() else \"cpu\"\n",
        "# # ===========================================\n",
        "\n",
        "# # Load audio file\n",
        "# audio, sr = torchaudio.load(audio_path)\n",
        "# audio = torch.mean(audio, dim=0, keepdim=True)  # convert to mono\n",
        "\n",
        "# # Define hop_length for ~5ms\n",
        "# if hop_length is None:\n",
        "#     hop_length = int(sr / 200)\n",
        "\n",
        "# # Move to device\n",
        "# audio = audio.to(device)\n",
        "\n",
        "# # Predict pitch and periodicity\n",
        "# with torch.no_grad():\n",
        "#     pitch, periodicity = torchcrepe.predict(\n",
        "#         audio,\n",
        "#         sr,\n",
        "#         hop_length,\n",
        "#         fmin,\n",
        "#         fmax,\n",
        "#         model=model,\n",
        "#         return_periodicity=True,\n",
        "#         batch_size=2048,\n",
        "#         device=device\n",
        "#     )\n",
        "\n",
        "# # Filter and threshold (optional smoothing)\n",
        "# periodicity = torchcrepe.filter.median(periodicity, win_length=3)\n",
        "# pitch = torchcrepe.threshold.At(0.21)(pitch, periodicity)\n",
        "# pitch = torchcrepe.filter.mean(pitch, win_length=3)\n",
        "\n",
        "# # Convert hop indices to time (seconds)\n",
        "# times = torch.arange(pitch.shape[-1]) * hop_length / sr\n",
        "\n",
        "# # Move back to CPU and flatten\n",
        "# times = times.cpu().numpy()\n",
        "# pitch = pitch.cpu().numpy().flatten()\n",
        "# periodicity = periodicity.cpu().numpy().flatten()\n",
        "\n",
        "# # Save\n",
        "# df = pd.DataFrame({\"time_sec\": times, \"frequency_Hz\": pitch, \"periodicity\": periodicity})\n",
        "\n",
        "# # Plot results\n",
        "# plt.figure(figsize=(10, 5))\n",
        "# plt.plot(times, pitch, label=\"Pitch (Hz)\")\n",
        "# plt.title(\"Estimated Pitch Over Time\")\n",
        "# plt.xlabel(\"Time (s)\")\n",
        "# plt.ylabel(\"Frequency (Hz)\")\n",
        "# plt.grid(True)\n",
        "# plt.legend()\n",
        "# plt.show()\n"
      ]
    }
  ],
  "metadata": {
    "colab": {
      "provenance": []
    },
    "kernelspec": {
      "display_name": "Python 3",
      "name": "python3"
    },
    "language_info": {
      "name": "python"
    }
  },
  "nbformat": 4,
  "nbformat_minor": 0
}
